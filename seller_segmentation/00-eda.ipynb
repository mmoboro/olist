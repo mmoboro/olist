{
 "cells": [
  {
   "cell_type": "markdown",
   "metadata": {},
   "source": [
    "Download data from https://www.kaggle.com/olistbr/brazilian-ecommerce"
   ]
  },
  {
   "cell_type": "markdown",
   "metadata": {
    "_cell_guid": "79c7e3d0-c299-4dcb-8224-4455121ee9b0",
    "_uuid": "d629ff2d2480ee46fbb7e2d37f6b5fab8052498a",
    "collapsed": true,
    "papermill": {
     "duration": 0.017085,
     "end_time": "2020-09-09T02:53:25.791373",
     "exception": false,
     "start_time": "2020-09-09T02:53:25.774288",
     "status": "completed"
    },
    "tags": []
   },
   "source": [
    "## Data schema\n",
    "![](https://i.imgur.com/HRhd2Y0.png)"
   ]
  },
  {
   "cell_type": "markdown",
   "metadata": {
    "papermill": {
     "duration": 0.016997,
     "end_time": "2020-09-09T02:53:25.825995",
     "exception": false,
     "start_time": "2020-09-09T02:53:25.808998",
     "status": "completed"
    },
    "tags": []
   },
   "source": [
    "# Game plan\n",
    "Starting from exploring `olist_orders_dataset` and `olist_order_items_dataset` which are centre of other datas."
   ]
  },
  {
   "cell_type": "code",
   "execution_count": 1,
   "metadata": {
    "execution": {
     "iopub.execute_input": "2020-09-09T02:53:25.866244Z",
     "iopub.status.busy": "2020-09-09T02:53:25.865308Z",
     "iopub.status.idle": "2020-09-09T02:53:25.868649Z",
     "shell.execute_reply": "2020-09-09T02:53:25.868048Z"
    },
    "papermill": {
     "duration": 0.025537,
     "end_time": "2020-09-09T02:53:25.868778",
     "exception": false,
     "start_time": "2020-09-09T02:53:25.843241",
     "status": "completed"
    },
    "tags": []
   },
   "outputs": [],
   "source": [
    "import numpy as np # linear algebra\n",
    "import pandas as pd # data processing, CSV file I/O (e.g. pd.read_csv)\n",
    "from pathlib import Path\n",
    "BASE_PATH = Path('../data')"
   ]
  },
  {
   "cell_type": "code",
   "execution_count": 2,
   "metadata": {
    "execution": {
     "iopub.execute_input": "2020-09-09T02:53:25.915055Z",
     "iopub.status.busy": "2020-09-09T02:53:25.914275Z",
     "iopub.status.idle": "2020-09-09T02:53:27.537160Z",
     "shell.execute_reply": "2020-09-09T02:53:27.535577Z"
    },
    "papermill": {
     "duration": 1.650996,
     "end_time": "2020-09-09T02:53:27.537291",
     "exception": false,
     "start_time": "2020-09-09T02:53:25.886295",
     "status": "completed"
    },
    "tags": []
   },
   "outputs": [],
   "source": [
    "order =  pd.read_csv(BASE_PATH/'olist_orders_dataset.csv')\n",
    "order_item = pd.read_csv(BASE_PATH/'olist_order_items_dataset.csv')"
   ]
  },
  {
   "cell_type": "code",
   "execution_count": 3,
   "metadata": {
    "execution": {
     "iopub.execute_input": "2020-09-09T02:53:27.588376Z",
     "iopub.status.busy": "2020-09-09T02:53:27.587456Z",
     "iopub.status.idle": "2020-09-09T02:53:27.601542Z",
     "shell.execute_reply": "2020-09-09T02:53:27.600792Z"
    },
    "papermill": {
     "duration": 0.047178,
     "end_time": "2020-09-09T02:53:27.601663",
     "exception": false,
     "start_time": "2020-09-09T02:53:27.554485",
     "status": "completed"
    },
    "tags": []
   },
   "outputs": [
    {
     "data": {
      "text/html": [
       "<div>\n",
       "<style scoped>\n",
       "    .dataframe tbody tr th:only-of-type {\n",
       "        vertical-align: middle;\n",
       "    }\n",
       "\n",
       "    .dataframe tbody tr th {\n",
       "        vertical-align: top;\n",
       "    }\n",
       "\n",
       "    .dataframe thead th {\n",
       "        text-align: right;\n",
       "    }\n",
       "</style>\n",
       "<table border=\"1\" class=\"dataframe\">\n",
       "  <thead>\n",
       "    <tr style=\"text-align: right;\">\n",
       "      <th></th>\n",
       "      <th>order_id</th>\n",
       "      <th>customer_id</th>\n",
       "      <th>order_status</th>\n",
       "      <th>order_purchase_timestamp</th>\n",
       "      <th>order_approved_at</th>\n",
       "      <th>order_delivered_carrier_date</th>\n",
       "      <th>order_delivered_customer_date</th>\n",
       "      <th>order_estimated_delivery_date</th>\n",
       "    </tr>\n",
       "  </thead>\n",
       "  <tbody>\n",
       "    <tr>\n",
       "      <th>0</th>\n",
       "      <td>e481f51cbdc54678b7cc49136f2d6af7</td>\n",
       "      <td>9ef432eb6251297304e76186b10a928d</td>\n",
       "      <td>delivered</td>\n",
       "      <td>2017-10-02 10:56:33</td>\n",
       "      <td>2017-10-02 11:07:15</td>\n",
       "      <td>2017-10-04 19:55:00</td>\n",
       "      <td>2017-10-10 21:25:13</td>\n",
       "      <td>2017-10-18 00:00:00</td>\n",
       "    </tr>\n",
       "    <tr>\n",
       "      <th>1</th>\n",
       "      <td>53cdb2fc8bc7dce0b6741e2150273451</td>\n",
       "      <td>b0830fb4747a6c6d20dea0b8c802d7ef</td>\n",
       "      <td>delivered</td>\n",
       "      <td>2018-07-24 20:41:37</td>\n",
       "      <td>2018-07-26 03:24:27</td>\n",
       "      <td>2018-07-26 14:31:00</td>\n",
       "      <td>2018-08-07 15:27:45</td>\n",
       "      <td>2018-08-13 00:00:00</td>\n",
       "    </tr>\n",
       "    <tr>\n",
       "      <th>2</th>\n",
       "      <td>47770eb9100c2d0c44946d9cf07ec65d</td>\n",
       "      <td>41ce2a54c0b03bf3443c3d931a367089</td>\n",
       "      <td>delivered</td>\n",
       "      <td>2018-08-08 08:38:49</td>\n",
       "      <td>2018-08-08 08:55:23</td>\n",
       "      <td>2018-08-08 13:50:00</td>\n",
       "      <td>2018-08-17 18:06:29</td>\n",
       "      <td>2018-09-04 00:00:00</td>\n",
       "    </tr>\n",
       "    <tr>\n",
       "      <th>3</th>\n",
       "      <td>949d5b44dbf5de918fe9c16f97b45f8a</td>\n",
       "      <td>f88197465ea7920adcdbec7375364d82</td>\n",
       "      <td>delivered</td>\n",
       "      <td>2017-11-18 19:28:06</td>\n",
       "      <td>2017-11-18 19:45:59</td>\n",
       "      <td>2017-11-22 13:39:59</td>\n",
       "      <td>2017-12-02 00:28:42</td>\n",
       "      <td>2017-12-15 00:00:00</td>\n",
       "    </tr>\n",
       "    <tr>\n",
       "      <th>4</th>\n",
       "      <td>ad21c59c0840e6cb83a9ceb5573f8159</td>\n",
       "      <td>8ab97904e6daea8866dbdbc4fb7aad2c</td>\n",
       "      <td>delivered</td>\n",
       "      <td>2018-02-13 21:18:39</td>\n",
       "      <td>2018-02-13 22:20:29</td>\n",
       "      <td>2018-02-14 19:46:34</td>\n",
       "      <td>2018-02-16 18:17:02</td>\n",
       "      <td>2018-02-26 00:00:00</td>\n",
       "    </tr>\n",
       "  </tbody>\n",
       "</table>\n",
       "</div>"
      ],
      "text/plain": [
       "                           order_id                       customer_id  \\\n",
       "0  e481f51cbdc54678b7cc49136f2d6af7  9ef432eb6251297304e76186b10a928d   \n",
       "1  53cdb2fc8bc7dce0b6741e2150273451  b0830fb4747a6c6d20dea0b8c802d7ef   \n",
       "2  47770eb9100c2d0c44946d9cf07ec65d  41ce2a54c0b03bf3443c3d931a367089   \n",
       "3  949d5b44dbf5de918fe9c16f97b45f8a  f88197465ea7920adcdbec7375364d82   \n",
       "4  ad21c59c0840e6cb83a9ceb5573f8159  8ab97904e6daea8866dbdbc4fb7aad2c   \n",
       "\n",
       "  order_status order_purchase_timestamp    order_approved_at  \\\n",
       "0    delivered      2017-10-02 10:56:33  2017-10-02 11:07:15   \n",
       "1    delivered      2018-07-24 20:41:37  2018-07-26 03:24:27   \n",
       "2    delivered      2018-08-08 08:38:49  2018-08-08 08:55:23   \n",
       "3    delivered      2017-11-18 19:28:06  2017-11-18 19:45:59   \n",
       "4    delivered      2018-02-13 21:18:39  2018-02-13 22:20:29   \n",
       "\n",
       "  order_delivered_carrier_date order_delivered_customer_date  \\\n",
       "0          2017-10-04 19:55:00           2017-10-10 21:25:13   \n",
       "1          2018-07-26 14:31:00           2018-08-07 15:27:45   \n",
       "2          2018-08-08 13:50:00           2018-08-17 18:06:29   \n",
       "3          2017-11-22 13:39:59           2017-12-02 00:28:42   \n",
       "4          2018-02-14 19:46:34           2018-02-16 18:17:02   \n",
       "\n",
       "  order_estimated_delivery_date  \n",
       "0           2017-10-18 00:00:00  \n",
       "1           2018-08-13 00:00:00  \n",
       "2           2018-09-04 00:00:00  \n",
       "3           2017-12-15 00:00:00  \n",
       "4           2018-02-26 00:00:00  "
      ]
     },
     "execution_count": 3,
     "metadata": {},
     "output_type": "execute_result"
    }
   ],
   "source": [
    "order.head()"
   ]
  },
  {
   "cell_type": "code",
   "execution_count": 4,
   "metadata": {
    "execution": {
     "iopub.execute_input": "2020-09-09T02:53:27.657124Z",
     "iopub.status.busy": "2020-09-09T02:53:27.656076Z",
     "iopub.status.idle": "2020-09-09T02:53:27.660016Z",
     "shell.execute_reply": "2020-09-09T02:53:27.660791Z"
    },
    "papermill": {
     "duration": 0.041348,
     "end_time": "2020-09-09T02:53:27.661016",
     "exception": false,
     "start_time": "2020-09-09T02:53:27.619668",
     "status": "completed"
    },
    "tags": []
   },
   "outputs": [
    {
     "data": {
      "text/html": [
       "<div>\n",
       "<style scoped>\n",
       "    .dataframe tbody tr th:only-of-type {\n",
       "        vertical-align: middle;\n",
       "    }\n",
       "\n",
       "    .dataframe tbody tr th {\n",
       "        vertical-align: top;\n",
       "    }\n",
       "\n",
       "    .dataframe thead th {\n",
       "        text-align: right;\n",
       "    }\n",
       "</style>\n",
       "<table border=\"1\" class=\"dataframe\">\n",
       "  <thead>\n",
       "    <tr style=\"text-align: right;\">\n",
       "      <th></th>\n",
       "      <th>order_id</th>\n",
       "      <th>order_item_id</th>\n",
       "      <th>product_id</th>\n",
       "      <th>seller_id</th>\n",
       "      <th>shipping_limit_date</th>\n",
       "      <th>price</th>\n",
       "      <th>freight_value</th>\n",
       "    </tr>\n",
       "  </thead>\n",
       "  <tbody>\n",
       "    <tr>\n",
       "      <th>0</th>\n",
       "      <td>00010242fe8c5a6d1ba2dd792cb16214</td>\n",
       "      <td>1</td>\n",
       "      <td>4244733e06e7ecb4970a6e2683c13e61</td>\n",
       "      <td>48436dade18ac8b2bce089ec2a041202</td>\n",
       "      <td>2017-09-19 09:45:35</td>\n",
       "      <td>58.90</td>\n",
       "      <td>13.29</td>\n",
       "    </tr>\n",
       "    <tr>\n",
       "      <th>1</th>\n",
       "      <td>00018f77f2f0320c557190d7a144bdd3</td>\n",
       "      <td>1</td>\n",
       "      <td>e5f2d52b802189ee658865ca93d83a8f</td>\n",
       "      <td>dd7ddc04e1b6c2c614352b383efe2d36</td>\n",
       "      <td>2017-05-03 11:05:13</td>\n",
       "      <td>239.90</td>\n",
       "      <td>19.93</td>\n",
       "    </tr>\n",
       "    <tr>\n",
       "      <th>2</th>\n",
       "      <td>000229ec398224ef6ca0657da4fc703e</td>\n",
       "      <td>1</td>\n",
       "      <td>c777355d18b72b67abbeef9df44fd0fd</td>\n",
       "      <td>5b51032eddd242adc84c38acab88f23d</td>\n",
       "      <td>2018-01-18 14:48:30</td>\n",
       "      <td>199.00</td>\n",
       "      <td>17.87</td>\n",
       "    </tr>\n",
       "    <tr>\n",
       "      <th>3</th>\n",
       "      <td>00024acbcdf0a6daa1e931b038114c75</td>\n",
       "      <td>1</td>\n",
       "      <td>7634da152a4610f1595efa32f14722fc</td>\n",
       "      <td>9d7a1d34a5052409006425275ba1c2b4</td>\n",
       "      <td>2018-08-15 10:10:18</td>\n",
       "      <td>12.99</td>\n",
       "      <td>12.79</td>\n",
       "    </tr>\n",
       "    <tr>\n",
       "      <th>4</th>\n",
       "      <td>00042b26cf59d7ce69dfabb4e55b4fd9</td>\n",
       "      <td>1</td>\n",
       "      <td>ac6c3623068f30de03045865e4e10089</td>\n",
       "      <td>df560393f3a51e74553ab94004ba5c87</td>\n",
       "      <td>2017-02-13 13:57:51</td>\n",
       "      <td>199.90</td>\n",
       "      <td>18.14</td>\n",
       "    </tr>\n",
       "  </tbody>\n",
       "</table>\n",
       "</div>"
      ],
      "text/plain": [
       "                           order_id  order_item_id  \\\n",
       "0  00010242fe8c5a6d1ba2dd792cb16214              1   \n",
       "1  00018f77f2f0320c557190d7a144bdd3              1   \n",
       "2  000229ec398224ef6ca0657da4fc703e              1   \n",
       "3  00024acbcdf0a6daa1e931b038114c75              1   \n",
       "4  00042b26cf59d7ce69dfabb4e55b4fd9              1   \n",
       "\n",
       "                         product_id                         seller_id  \\\n",
       "0  4244733e06e7ecb4970a6e2683c13e61  48436dade18ac8b2bce089ec2a041202   \n",
       "1  e5f2d52b802189ee658865ca93d83a8f  dd7ddc04e1b6c2c614352b383efe2d36   \n",
       "2  c777355d18b72b67abbeef9df44fd0fd  5b51032eddd242adc84c38acab88f23d   \n",
       "3  7634da152a4610f1595efa32f14722fc  9d7a1d34a5052409006425275ba1c2b4   \n",
       "4  ac6c3623068f30de03045865e4e10089  df560393f3a51e74553ab94004ba5c87   \n",
       "\n",
       "   shipping_limit_date   price  freight_value  \n",
       "0  2017-09-19 09:45:35   58.90          13.29  \n",
       "1  2017-05-03 11:05:13  239.90          19.93  \n",
       "2  2018-01-18 14:48:30  199.00          17.87  \n",
       "3  2018-08-15 10:10:18   12.99          12.79  \n",
       "4  2017-02-13 13:57:51  199.90          18.14  "
      ]
     },
     "execution_count": 4,
     "metadata": {},
     "output_type": "execute_result"
    }
   ],
   "source": [
    "order_item.head()"
   ]
  },
  {
   "cell_type": "markdown",
   "metadata": {
    "papermill": {
     "duration": 0.017917,
     "end_time": "2020-09-09T02:53:27.698975",
     "exception": false,
     "start_time": "2020-09-09T02:53:27.681058",
     "status": "completed"
    },
    "tags": []
   },
   "source": [
    "## Simple exploration"
   ]
  },
  {
   "cell_type": "code",
   "execution_count": 5,
   "metadata": {
    "execution": {
     "iopub.execute_input": "2020-09-09T02:53:27.741097Z",
     "iopub.status.busy": "2020-09-09T02:53:27.740282Z",
     "iopub.status.idle": "2020-09-09T02:53:29.053542Z",
     "shell.execute_reply": "2020-09-09T02:53:29.054259Z"
    },
    "papermill": {
     "duration": 1.337586,
     "end_time": "2020-09-09T02:53:29.054443",
     "exception": false,
     "start_time": "2020-09-09T02:53:27.716857",
     "status": "completed"
    },
    "tags": []
   },
   "outputs": [],
   "source": [
    "import seaborn as sns\n",
    "import matplotlib.pyplot as plt"
   ]
  },
  {
   "cell_type": "code",
   "execution_count": 6,
   "metadata": {
    "execution": {
     "iopub.execute_input": "2020-09-09T02:53:29.131719Z",
     "iopub.status.busy": "2020-09-09T02:53:29.130251Z",
     "iopub.status.idle": "2020-09-09T02:53:29.499224Z",
     "shell.execute_reply": "2020-09-09T02:53:29.495731Z"
    },
    "papermill": {
     "duration": 0.427229,
     "end_time": "2020-09-09T02:53:29.499768",
     "exception": false,
     "start_time": "2020-09-09T02:53:29.072539",
     "status": "completed"
    },
    "tags": []
   },
   "outputs": [
    {
     "data": {
      "image/png": "[encoded data removed]",
      "text/plain": [
       "<Figure size 432x288 with 1 Axes>"
      ]
     },
     "metadata": {
      "needs_background": "light"
     },
     "output_type": "display_data"
    }
   ],
   "source": [
    "# order status count\n",
    "_ = order['order_status'].value_counts().plot.bar()\n",
    "_ = plt.title('order status count')\n",
    "_ = plt.xticks(rotation=45)"
   ]
  },
  {
   "cell_type": "code",
   "execution_count": 7,
   "metadata": {
    "execution": {
     "iopub.execute_input": "2020-09-09T02:53:29.560706Z",
     "iopub.status.busy": "2020-09-09T02:53:29.559560Z",
     "iopub.status.idle": "2020-09-09T02:53:29.924340Z",
     "shell.execute_reply": "2020-09-09T02:53:29.923692Z"
    },
    "papermill": {
     "duration": 0.394895,
     "end_time": "2020-09-09T02:53:29.924471",
     "exception": false,
     "start_time": "2020-09-09T02:53:29.529576",
     "status": "completed"
    },
    "tags": []
   },
   "outputs": [
    {
     "name": "stderr",
     "output_type": "stream",
     "text": [
      "/anaconda3/lib/python3.7/site-packages/seaborn/distributions.py:2551: FutureWarning: `distplot` is a deprecated function and will be removed in a future version. Please adapt your code to use either `displot` (a figure-level function with similar flexibility) or `histplot` (an axes-level function for histograms).\n",
      "  warnings.warn(msg, FutureWarning)\n"
     ]
    },
    {
     "data": {
      "image/png": "[encoded data removed]",
      "text/plain": [
       "<Figure size 432x288 with 1 Axes>"
      ]
     },
     "metadata": {
      "needs_background": "light"
     },
     "output_type": "display_data"
    }
   ],
   "source": [
    "# price & freight distribution\n",
    "_ = sns.distplot(order_item.price)\n",
    "_ = plt.title('item price distribution')"
   ]
  },
  {
   "cell_type": "code",
   "execution_count": 8,
   "metadata": {
    "execution": {
     "iopub.execute_input": "2020-09-09T02:53:29.974033Z",
     "iopub.status.busy": "2020-09-09T02:53:29.967687Z",
     "iopub.status.idle": "2020-09-09T02:53:30.317273Z",
     "shell.execute_reply": "2020-09-09T02:53:30.317874Z"
    },
    "papermill": {
     "duration": 0.374949,
     "end_time": "2020-09-09T02:53:30.318034",
     "exception": false,
     "start_time": "2020-09-09T02:53:29.943085",
     "status": "completed"
    },
    "tags": []
   },
   "outputs": [
    {
     "name": "stderr",
     "output_type": "stream",
     "text": [
      "/anaconda3/lib/python3.7/site-packages/seaborn/distributions.py:2551: FutureWarning: `distplot` is a deprecated function and will be removed in a future version. Please adapt your code to use either `displot` (a figure-level function with similar flexibility) or `histplot` (an axes-level function for histograms).\n",
      "  warnings.warn(msg, FutureWarning)\n"
     ]
    },
    {
     "data": {
      "image/png": "[encoded data removed]",
      "text/plain": [
       "<Figure size 432x288 with 1 Axes>"
      ]
     },
     "metadata": {
      "needs_background": "light"
     },
     "output_type": "display_data"
    }
   ],
   "source": [
    "_ = sns.distplot(order_item.freight_value)\n",
    "_ = plt.title('frieght value distribution')"
   ]
  },
  {
   "cell_type": "markdown",
   "metadata": {
    "papermill": {
     "duration": 0.018524,
     "end_time": "2020-09-09T02:53:30.355406",
     "exception": false,
     "start_time": "2020-09-09T02:53:30.336882",
     "status": "completed"
    },
    "tags": []
   },
   "source": [
    "## Things to find out from order data:\n",
    "* Purchase/order through out time\n",
    "* Order value distribution\n",
    "* Basket size\n",
    "* How many times do customers buy products?\n",
    "* How many percent of orders were delivered before estimated delivery date?\n",
    "* Best selling product categories\n",
    "* Best selling sellers\n",
    "* Frequently purchasing customers\n",
    "* TBD"
   ]
  },
  {
   "cell_type": "markdown",
   "metadata": {
    "papermill": {
     "duration": 0.018419,
     "end_time": "2020-09-09T02:53:30.392779",
     "exception": false,
     "start_time": "2020-09-09T02:53:30.374360",
     "status": "completed"
    },
    "tags": []
   },
   "source": [
    "### Purchase/order through time"
   ]
  },
  {
   "cell_type": "code",
   "execution_count": 9,
   "metadata": {
    "execution": {
     "iopub.execute_input": "2020-09-09T02:53:30.441888Z",
     "iopub.status.busy": "2020-09-09T02:53:30.441104Z",
     "iopub.status.idle": "2020-09-09T02:54:41.234715Z",
     "shell.execute_reply": "2020-09-09T02:54:41.234029Z"
    },
    "papermill": {
     "duration": 70.822549,
     "end_time": "2020-09-09T02:54:41.234868",
     "exception": false,
     "start_time": "2020-09-09T02:53:30.412319",
     "status": "completed"
    },
    "tags": []
   },
   "outputs": [],
   "source": [
    "# orders through time\n",
    "\n",
    "# -- preprocess datetime columns -> create new columns by parse to datetime and convert to date\n",
    "dt_cols_orders = ['order_purchase_timestamp','order_approved_at','order_delivered_carrier_date',\n",
    "                 'order_delivered_customer_date', 'order_estimated_delivery_date']\n",
    "dt_cols_order_items = ['shipping_limit_date']\n",
    "for col in dt_cols_orders: order[col+'_as_date'] = order[col].apply(lambda x:pd.to_datetime(x).date())\n",
    "for col in dt_cols_order_items: order_item[col+'_as_date'] = order_item[col].apply(lambda x:pd.to_datetime(x).date())"
   ]
  },
  {
   "cell_type": "code",
   "execution_count": 10,
   "metadata": {
    "execution": {
     "iopub.execute_input": "2020-09-09T02:54:41.305769Z",
     "iopub.status.busy": "2020-09-09T02:54:41.304622Z",
     "iopub.status.idle": "2020-09-09T02:54:41.324106Z",
     "shell.execute_reply": "2020-09-09T02:54:41.323361Z"
    },
    "papermill": {
     "duration": 0.069765,
     "end_time": "2020-09-09T02:54:41.324241",
     "exception": false,
     "start_time": "2020-09-09T02:54:41.254476",
     "status": "completed"
    },
    "tags": []
   },
   "outputs": [],
   "source": [
    "# -- group order by date\n",
    "order_by_date = order.groupby(['order_purchase_timestamp_as_date'])['order_id'].count().reset_index()"
   ]
  },
  {
   "cell_type": "code",
   "execution_count": 11,
   "metadata": {
    "execution": {
     "iopub.execute_input": "2020-09-09T02:54:41.381756Z",
     "iopub.status.busy": "2020-09-09T02:54:41.378543Z",
     "iopub.status.idle": "2020-09-09T02:54:41.684570Z",
     "shell.execute_reply": "2020-09-09T02:54:41.683726Z"
    },
    "papermill": {
     "duration": 0.341244,
     "end_time": "2020-09-09T02:54:41.684711",
     "exception": false,
     "start_time": "2020-09-09T02:54:41.343467",
     "status": "completed"
    },
    "tags": []
   },
   "outputs": [
    {
     "data": {
      "image/png": "[encoded data removed]",
      "text/plain": [
       "<Figure size 432x288 with 1 Axes>"
      ]
     },
     "metadata": {
      "needs_background": "light"
     },
     "output_type": "display_data"
    }
   ],
   "source": [
    "# -- plot order by date\n",
    "_ = sns.lineplot(x='order_purchase_timestamp_as_date',y='order_id', data=order_by_date)\n",
    "_ = plt.title('order by date')\n",
    "_ = plt.xticks(rotation=45)"
   ]
  },
  {
   "cell_type": "markdown",
   "metadata": {
    "papermill": {
     "duration": 0.019258,
     "end_time": "2020-09-09T02:54:41.723553",
     "exception": false,
     "start_time": "2020-09-09T02:54:41.704295",
     "status": "completed"
    },
    "tags": []
   },
   "source": [
    "### Order value distribution"
   ]
  },
  {
   "cell_type": "code",
   "execution_count": 12,
   "metadata": {
    "execution": {
     "iopub.execute_input": "2020-09-09T02:54:41.772740Z",
     "iopub.status.busy": "2020-09-09T02:54:41.771958Z",
     "iopub.status.idle": "2020-09-09T02:54:42.222760Z",
     "shell.execute_reply": "2020-09-09T02:54:42.222107Z"
    },
    "papermill": {
     "duration": 0.47939,
     "end_time": "2020-09-09T02:54:42.222902",
     "exception": false,
     "start_time": "2020-09-09T02:54:41.743512",
     "status": "completed"
    },
    "tags": []
   },
   "outputs": [
    {
     "name": "stderr",
     "output_type": "stream",
     "text": [
      "/anaconda3/lib/python3.7/site-packages/seaborn/distributions.py:2551: FutureWarning: `distplot` is a deprecated function and will be removed in a future version. Please adapt your code to use either `displot` (a figure-level function with similar flexibility) or `histplot` (an axes-level function for histograms).\n",
      "  warnings.warn(msg, FutureWarning)\n"
     ]
    },
    {
     "data": {
      "image/png": "[encoded data removed]",
      "text/plain": [
       "<Figure size 432x288 with 1 Axes>"
      ]
     },
     "metadata": {
      "needs_background": "light"
     },
     "output_type": "display_data"
    }
   ],
   "source": [
    "_ = sns.distplot(order_item.groupby(['order_id'])['price'].sum())\n",
    "_ = plt.title('order value distribution')"
   ]
  },
  {
   "cell_type": "code",
   "execution_count": 13,
   "metadata": {
    "execution": {
     "iopub.execute_input": "2020-09-09T02:54:42.279775Z",
     "iopub.status.busy": "2020-09-09T02:54:42.278677Z",
     "iopub.status.idle": "2020-09-09T02:54:42.426743Z",
     "shell.execute_reply": "2020-09-09T02:54:42.425993Z"
    },
    "papermill": {
     "duration": 0.183776,
     "end_time": "2020-09-09T02:54:42.426891",
     "exception": false,
     "start_time": "2020-09-09T02:54:42.243115",
     "status": "completed"
    },
    "tags": []
   },
   "outputs": [
    {
     "data": {
      "text/plain": [
       "count    98666.000000\n",
       "mean       137.754076\n",
       "std        210.645145\n",
       "min          0.850000\n",
       "25%         45.900000\n",
       "50%         86.900000\n",
       "75%        149.900000\n",
       "max      13440.000000\n",
       "Name: price, dtype: float64"
      ]
     },
     "execution_count": 13,
     "metadata": {},
     "output_type": "execute_result"
    }
   ],
   "source": [
    "order_item.groupby(['order_id'])['price'].sum().describe()"
   ]
  },
  {
   "cell_type": "markdown",
   "metadata": {
    "papermill": {
     "duration": 0.019659,
     "end_time": "2020-09-09T02:54:42.467453",
     "exception": false,
     "start_time": "2020-09-09T02:54:42.447794",
     "status": "completed"
    },
    "tags": []
   },
   "source": [
    "### Basket size"
   ]
  },
  {
   "cell_type": "code",
   "execution_count": 14,
   "metadata": {
    "execution": {
     "iopub.execute_input": "2020-09-09T02:54:42.527596Z",
     "iopub.status.busy": "2020-09-09T02:54:42.526500Z",
     "iopub.status.idle": "2020-09-09T02:54:42.965057Z",
     "shell.execute_reply": "2020-09-09T02:54:42.964131Z"
    },
    "papermill": {
     "duration": 0.477574,
     "end_time": "2020-09-09T02:54:42.965199",
     "exception": false,
     "start_time": "2020-09-09T02:54:42.487625",
     "status": "completed"
    },
    "tags": []
   },
   "outputs": [
    {
     "data": {
      "image/png": "[encoded data removed]",
      "text/plain": [
       "<Figure size 432x288 with 1 Axes>"
      ]
     },
     "metadata": {
      "needs_background": "light"
     },
     "output_type": "display_data"
    }
   ],
   "source": [
    "_ = order_item.groupby(['order_id'])['product_id'].count().value_counts().plot.barh()\n",
    "_ = plt.title('basket size')"
   ]
  },
  {
   "cell_type": "markdown",
   "metadata": {
    "papermill": {
     "duration": 0.020005,
     "end_time": "2020-09-09T02:54:43.005894",
     "exception": false,
     "start_time": "2020-09-09T02:54:42.985889",
     "status": "completed"
    },
    "tags": []
   },
   "source": [
    "### How many times do customers buy products?"
   ]
  },
  {
   "cell_type": "code",
   "execution_count": 15,
   "metadata": {
    "execution": {
     "iopub.execute_input": "2020-09-09T02:54:43.054920Z",
     "iopub.status.busy": "2020-09-09T02:54:43.054112Z",
     "iopub.status.idle": "2020-09-09T02:54:43.327053Z",
     "shell.execute_reply": "2020-09-09T02:54:43.326220Z"
    },
    "papermill": {
     "duration": 0.300667,
     "end_time": "2020-09-09T02:54:43.327184",
     "exception": false,
     "start_time": "2020-09-09T02:54:43.026517",
     "status": "completed"
    },
    "tags": []
   },
   "outputs": [],
   "source": [
    "# import customer data\n",
    "customer = pd.read_csv(BASE_PATH/'olist_customers_dataset.csv')"
   ]
  },
  {
   "cell_type": "code",
   "execution_count": 16,
   "metadata": {
    "execution": {
     "iopub.execute_input": "2020-09-09T02:54:43.381676Z",
     "iopub.status.busy": "2020-09-09T02:54:43.380542Z",
     "iopub.status.idle": "2020-09-09T02:54:43.385051Z",
     "shell.execute_reply": "2020-09-09T02:54:43.384413Z"
    },
    "papermill": {
     "duration": 0.03754,
     "end_time": "2020-09-09T02:54:43.385173",
     "exception": false,
     "start_time": "2020-09-09T02:54:43.347633",
     "status": "completed"
    },
    "tags": []
   },
   "outputs": [
    {
     "data": {
      "text/html": [
       "<div>\n",
       "<style scoped>\n",
       "    .dataframe tbody tr th:only-of-type {\n",
       "        vertical-align: middle;\n",
       "    }\n",
       "\n",
       "    .dataframe tbody tr th {\n",
       "        vertical-align: top;\n",
       "    }\n",
       "\n",
       "    .dataframe thead th {\n",
       "        text-align: right;\n",
       "    }\n",
       "</style>\n",
       "<table border=\"1\" class=\"dataframe\">\n",
       "  <thead>\n",
       "    <tr style=\"text-align: right;\">\n",
       "      <th></th>\n",
       "      <th>customer_id</th>\n",
       "      <th>customer_unique_id</th>\n",
       "      <th>customer_zip_code_prefix</th>\n",
       "      <th>customer_city</th>\n",
       "      <th>customer_state</th>\n",
       "    </tr>\n",
       "  </thead>\n",
       "  <tbody>\n",
       "    <tr>\n",
       "      <th>0</th>\n",
       "      <td>06b8999e2fba1a1fbc88172c00ba8bc7</td>\n",
       "      <td>861eff4711a542e4b93843c6dd7febb0</td>\n",
       "      <td>14409</td>\n",
       "      <td>franca</td>\n",
       "      <td>SP</td>\n",
       "    </tr>\n",
       "    <tr>\n",
       "      <th>1</th>\n",
       "      <td>18955e83d337fd6b2def6b18a428ac77</td>\n",
       "      <td>290c77bc529b7ac935b93aa66c333dc3</td>\n",
       "      <td>9790</td>\n",
       "      <td>sao bernardo do campo</td>\n",
       "      <td>SP</td>\n",
       "    </tr>\n",
       "    <tr>\n",
       "      <th>2</th>\n",
       "      <td>4e7b3e00288586ebd08712fdd0374a03</td>\n",
       "      <td>060e732b5b29e8181a18229c7b0b2b5e</td>\n",
       "      <td>1151</td>\n",
       "      <td>sao paulo</td>\n",
       "      <td>SP</td>\n",
       "    </tr>\n",
       "    <tr>\n",
       "      <th>3</th>\n",
       "      <td>b2b6027bc5c5109e529d4dc6358b12c3</td>\n",
       "      <td>259dac757896d24d7702b9acbbff3f3c</td>\n",
       "      <td>8775</td>\n",
       "      <td>mogi das cruzes</td>\n",
       "      <td>SP</td>\n",
       "    </tr>\n",
       "    <tr>\n",
       "      <th>4</th>\n",
       "      <td>4f2d8ab171c80ec8364f7c12e35b23ad</td>\n",
       "      <td>345ecd01c38d18a9036ed96c73b8d066</td>\n",
       "      <td>13056</td>\n",
       "      <td>campinas</td>\n",
       "      <td>SP</td>\n",
       "    </tr>\n",
       "  </tbody>\n",
       "</table>\n",
       "</div>"
      ],
      "text/plain": [
       "                        customer_id                customer_unique_id  \\\n",
       "0  06b8999e2fba1a1fbc88172c00ba8bc7  861eff4711a542e4b93843c6dd7febb0   \n",
       "1  18955e83d337fd6b2def6b18a428ac77  290c77bc529b7ac935b93aa66c333dc3   \n",
       "2  4e7b3e00288586ebd08712fdd0374a03  060e732b5b29e8181a18229c7b0b2b5e   \n",
       "3  b2b6027bc5c5109e529d4dc6358b12c3  259dac757896d24d7702b9acbbff3f3c   \n",
       "4  4f2d8ab171c80ec8364f7c12e35b23ad  345ecd01c38d18a9036ed96c73b8d066   \n",
       "\n",
       "   customer_zip_code_prefix          customer_city customer_state  \n",
       "0                     14409                 franca             SP  \n",
       "1                      9790  sao bernardo do campo             SP  \n",
       "2                      1151              sao paulo             SP  \n",
       "3                      8775        mogi das cruzes             SP  \n",
       "4                     13056               campinas             SP  "
      ]
     },
     "execution_count": 16,
     "metadata": {},
     "output_type": "execute_result"
    }
   ],
   "source": [
    "customer.head()"
   ]
  },
  {
   "cell_type": "code",
   "execution_count": 17,
   "metadata": {
    "execution": {
     "iopub.execute_input": "2020-09-09T02:54:43.441219Z",
     "iopub.status.busy": "2020-09-09T02:54:43.440144Z",
     "iopub.status.idle": "2020-09-09T02:54:43.475308Z",
     "shell.execute_reply": "2020-09-09T02:54:43.474631Z"
    },
    "papermill": {
     "duration": 0.069604,
     "end_time": "2020-09-09T02:54:43.475434",
     "exception": false,
     "start_time": "2020-09-09T02:54:43.405830",
     "status": "completed"
    },
    "tags": []
   },
   "outputs": [],
   "source": [
    "assert len(customer['customer_id']) == customer['customer_id'].nunique()"
   ]
  },
  {
   "cell_type": "code",
   "execution_count": 18,
   "metadata": {
    "execution": {
     "iopub.execute_input": "2020-09-09T02:54:43.531582Z",
     "iopub.status.busy": "2020-09-09T02:54:43.530714Z",
     "iopub.status.idle": "2020-09-09T02:54:43.698150Z",
     "shell.execute_reply": "2020-09-09T02:54:43.697328Z"
    },
    "papermill": {
     "duration": 0.202184,
     "end_time": "2020-09-09T02:54:43.698288",
     "exception": false,
     "start_time": "2020-09-09T02:54:43.496104",
     "status": "completed"
    },
    "tags": []
   },
   "outputs": [
    {
     "name": "stdout",
     "output_type": "stream",
     "text": [
      "number of customer id: 99441\n",
      "number of unique customer id: 96096\n",
      "number of return customer: 2997\n"
     ]
    }
   ],
   "source": [
    "# number of unique customer id with more than one customer id (customer who buy more than one time)\n",
    "print(f'number of customer id: {len(customer[\"customer_id\"])}')\n",
    "print(f'number of unique customer id: {customer[\"customer_unique_id\"].nunique()}')\n",
    "print(f'number of return customer: {sum(customer[\"customer_unique_id\"].value_counts()>1)}')"
   ]
  },
  {
   "cell_type": "code",
   "execution_count": 19,
   "metadata": {
    "execution": {
     "iopub.execute_input": "2020-09-09T02:54:43.748284Z",
     "iopub.status.busy": "2020-09-09T02:54:43.747425Z",
     "iopub.status.idle": "2020-09-09T02:54:43.941337Z",
     "shell.execute_reply": "2020-09-09T02:54:43.940519Z"
    },
    "papermill": {
     "duration": 0.221748,
     "end_time": "2020-09-09T02:54:43.941466",
     "exception": false,
     "start_time": "2020-09-09T02:54:43.719718",
     "status": "completed"
    },
    "tags": []
   },
   "outputs": [
    {
     "name": "stdout",
     "output_type": "stream",
     "text": [
      "(99441, 13)\n",
      "(99441, 14)\n"
     ]
    }
   ],
   "source": [
    "print(order.shape)\n",
    "order = order.merge(customer[['customer_id','customer_unique_id']], on='customer_id', how='inner')\n",
    "print(order.shape)"
   ]
  },
  {
   "cell_type": "code",
   "execution_count": 20,
   "metadata": {
    "execution": {
     "iopub.execute_input": "2020-09-09T02:54:43.998542Z",
     "iopub.status.busy": "2020-09-09T02:54:43.997759Z",
     "iopub.status.idle": "2020-09-09T02:54:44.453198Z",
     "shell.execute_reply": "2020-09-09T02:54:44.452447Z"
    },
    "papermill": {
     "duration": 0.490632,
     "end_time": "2020-09-09T02:54:44.453319",
     "exception": false,
     "start_time": "2020-09-09T02:54:43.962687",
     "status": "completed"
    },
    "tags": []
   },
   "outputs": [
    {
     "data": {
      "image/png": "[encoded data removed]",
      "text/plain": [
       "<Figure size 432x288 with 1 Axes>"
      ]
     },
     "metadata": {
      "needs_background": "light"
     },
     "output_type": "display_data"
    }
   ],
   "source": [
    "_ = order.groupby(['customer_unique_id'])['order_id'].count().value_counts().plot.bar()\n",
    "_ = plt.title('number of customer by total order')"
   ]
  },
  {
   "cell_type": "markdown",
   "metadata": {
    "papermill": {
     "duration": 0.02133,
     "end_time": "2020-09-09T02:54:44.495943",
     "exception": false,
     "start_time": "2020-09-09T02:54:44.474613",
     "status": "completed"
    },
    "tags": []
   },
   "source": [
    "### How many percent of orders were delivered before estimated delivery date?"
   ]
  },
  {
   "cell_type": "code",
   "execution_count": 21,
   "metadata": {
    "execution": {
     "iopub.execute_input": "2020-09-09T02:54:44.557264Z",
     "iopub.status.busy": "2020-09-09T02:54:44.555979Z",
     "iopub.status.idle": "2020-09-09T02:54:47.261339Z",
     "shell.execute_reply": "2020-09-09T02:54:47.260614Z"
    },
    "papermill": {
     "duration": 2.743908,
     "end_time": "2020-09-09T02:54:47.261468",
     "exception": false,
     "start_time": "2020-09-09T02:54:44.517560",
     "status": "completed"
    },
    "tags": []
   },
   "outputs": [],
   "source": [
    "delivery_delay = order[~order['order_delivered_customer_date_as_date'].isna()].apply(lambda x:\\\n",
    "    x['order_delivered_customer_date_as_date'] - x['order_estimated_delivery_date_as_date'], axis=1)"
   ]
  },
  {
   "cell_type": "code",
   "execution_count": 22,
   "metadata": {
    "execution": {
     "iopub.execute_input": "2020-09-09T02:54:47.314248Z",
     "iopub.status.busy": "2020-09-09T02:54:47.313439Z",
     "iopub.status.idle": "2020-09-09T02:54:47.642183Z",
     "shell.execute_reply": "2020-09-09T02:54:47.641357Z"
    },
    "papermill": {
     "duration": 0.358564,
     "end_time": "2020-09-09T02:54:47.642318",
     "exception": false,
     "start_time": "2020-09-09T02:54:47.283754",
     "status": "completed"
    },
    "tags": []
   },
   "outputs": [
    {
     "name": "stderr",
     "output_type": "stream",
     "text": [
      "/anaconda3/lib/python3.7/site-packages/seaborn/distributions.py:2551: FutureWarning: `distplot` is a deprecated function and will be removed in a future version. Please adapt your code to use either `displot` (a figure-level function with similar flexibility) or `histplot` (an axes-level function for histograms).\n",
      "  warnings.warn(msg, FutureWarning)\n"
     ]
    },
    {
     "data": {
      "image/png": "[encoded data removed]",
      "text/plain": [
       "<Figure size 432x288 with 1 Axes>"
      ]
     },
     "metadata": {
      "needs_background": "light"
     },
     "output_type": "display_data"
    }
   ],
   "source": [
    "\n",
    "_ = sns.distplot(delivery_delay.dt.days.values)\n",
    "_ = plt.title('delivery delay distribution')"
   ]
  },
  {
   "cell_type": "code",
   "execution_count": 23,
   "metadata": {
    "execution": {
     "iopub.execute_input": "2020-09-09T02:54:47.693704Z",
     "iopub.status.busy": "2020-09-09T02:54:47.692886Z",
     "iopub.status.idle": "2020-09-09T02:54:47.709736Z",
     "shell.execute_reply": "2020-09-09T02:54:47.708967Z"
    },
    "papermill": {
     "duration": 0.045148,
     "end_time": "2020-09-09T02:54:47.709891",
     "exception": false,
     "start_time": "2020-09-09T02:54:47.664743",
     "status": "completed"
    },
    "tags": []
   },
   "outputs": [
    {
     "data": {
      "text/plain": [
       "count    96476.000000\n",
       "mean       -11.876881\n",
       "std         10.183854\n",
       "min       -147.000000\n",
       "25%        -17.000000\n",
       "50%        -12.000000\n",
       "75%         -7.000000\n",
       "max        188.000000\n",
       "dtype: float64"
      ]
     },
     "execution_count": 23,
     "metadata": {},
     "output_type": "execute_result"
    }
   ],
   "source": [
    "delivery_delay.dt.days.describe()"
   ]
  },
  {
   "cell_type": "markdown",
   "metadata": {
    "papermill": {
     "duration": 0.021877,
     "end_time": "2020-09-09T02:54:47.754431",
     "exception": false,
     "start_time": "2020-09-09T02:54:47.732554",
     "status": "completed"
    },
    "tags": []
   },
   "source": [
    "### Best selling product categories"
   ]
  },
  {
   "cell_type": "code",
   "execution_count": 24,
   "metadata": {
    "execution": {
     "iopub.execute_input": "2020-09-09T02:54:47.806903Z",
     "iopub.status.busy": "2020-09-09T02:54:47.806058Z",
     "iopub.status.idle": "2020-09-09T02:54:47.878007Z",
     "shell.execute_reply": "2020-09-09T02:54:47.877130Z"
    },
    "papermill": {
     "duration": 0.101214,
     "end_time": "2020-09-09T02:54:47.878161",
     "exception": false,
     "start_time": "2020-09-09T02:54:47.776947",
     "status": "completed"
    },
    "tags": []
   },
   "outputs": [],
   "source": [
    "# read product data\n",
    "products = pd.read_csv(BASE_PATH/'olist_products_dataset.csv')"
   ]
  },
  {
   "cell_type": "code",
   "execution_count": 25,
   "metadata": {
    "execution": {
     "iopub.execute_input": "2020-09-09T02:54:47.944003Z",
     "iopub.status.busy": "2020-09-09T02:54:47.942777Z",
     "iopub.status.idle": "2020-09-09T02:54:47.948242Z",
     "shell.execute_reply": "2020-09-09T02:54:47.947622Z"
    },
    "papermill": {
     "duration": 0.047554,
     "end_time": "2020-09-09T02:54:47.948382",
     "exception": false,
     "start_time": "2020-09-09T02:54:47.900828",
     "status": "completed"
    },
    "tags": []
   },
   "outputs": [
    {
     "data": {
      "text/html": [
       "<div>\n",
       "<style scoped>\n",
       "    .dataframe tbody tr th:only-of-type {\n",
       "        vertical-align: middle;\n",
       "    }\n",
       "\n",
       "    .dataframe tbody tr th {\n",
       "        vertical-align: top;\n",
       "    }\n",
       "\n",
       "    .dataframe thead th {\n",
       "        text-align: right;\n",
       "    }\n",
       "</style>\n",
       "<table border=\"1\" class=\"dataframe\">\n",
       "  <thead>\n",
       "    <tr style=\"text-align: right;\">\n",
       "      <th></th>\n",
       "      <th>product_id</th>\n",
       "      <th>product_category_name</th>\n",
       "      <th>product_name_lenght</th>\n",
       "      <th>product_description_lenght</th>\n",
       "      <th>product_photos_qty</th>\n",
       "      <th>product_weight_g</th>\n",
       "      <th>product_length_cm</th>\n",
       "      <th>product_height_cm</th>\n",
       "      <th>product_width_cm</th>\n",
       "    </tr>\n",
       "  </thead>\n",
       "  <tbody>\n",
       "    <tr>\n",
       "      <th>0</th>\n",
       "      <td>1e9e8ef04dbcff4541ed26657ea517e5</td>\n",
       "      <td>perfumaria</td>\n",
       "      <td>40.0</td>\n",
       "      <td>287.0</td>\n",
       "      <td>1.0</td>\n",
       "      <td>225.0</td>\n",
       "      <td>16.0</td>\n",
       "      <td>10.0</td>\n",
       "      <td>14.0</td>\n",
       "    </tr>\n",
       "    <tr>\n",
       "      <th>1</th>\n",
       "      <td>3aa071139cb16b67ca9e5dea641aaa2f</td>\n",
       "      <td>artes</td>\n",
       "      <td>44.0</td>\n",
       "      <td>276.0</td>\n",
       "      <td>1.0</td>\n",
       "      <td>1000.0</td>\n",
       "      <td>30.0</td>\n",
       "      <td>18.0</td>\n",
       "      <td>20.0</td>\n",
       "    </tr>\n",
       "    <tr>\n",
       "      <th>2</th>\n",
       "      <td>96bd76ec8810374ed1b65e291975717f</td>\n",
       "      <td>esporte_lazer</td>\n",
       "      <td>46.0</td>\n",
       "      <td>250.0</td>\n",
       "      <td>1.0</td>\n",
       "      <td>154.0</td>\n",
       "      <td>18.0</td>\n",
       "      <td>9.0</td>\n",
       "      <td>15.0</td>\n",
       "    </tr>\n",
       "    <tr>\n",
       "      <th>3</th>\n",
       "      <td>cef67bcfe19066a932b7673e239eb23d</td>\n",
       "      <td>bebes</td>\n",
       "      <td>27.0</td>\n",
       "      <td>261.0</td>\n",
       "      <td>1.0</td>\n",
       "      <td>371.0</td>\n",
       "      <td>26.0</td>\n",
       "      <td>4.0</td>\n",
       "      <td>26.0</td>\n",
       "    </tr>\n",
       "    <tr>\n",
       "      <th>4</th>\n",
       "      <td>9dc1a7de274444849c219cff195d0b71</td>\n",
       "      <td>utilidades_domesticas</td>\n",
       "      <td>37.0</td>\n",
       "      <td>402.0</td>\n",
       "      <td>4.0</td>\n",
       "      <td>625.0</td>\n",
       "      <td>20.0</td>\n",
       "      <td>17.0</td>\n",
       "      <td>13.0</td>\n",
       "    </tr>\n",
       "  </tbody>\n",
       "</table>\n",
       "</div>"
      ],
      "text/plain": [
       "                         product_id  product_category_name  \\\n",
       "0  1e9e8ef04dbcff4541ed26657ea517e5             perfumaria   \n",
       "1  3aa071139cb16b67ca9e5dea641aaa2f                  artes   \n",
       "2  96bd76ec8810374ed1b65e291975717f          esporte_lazer   \n",
       "3  cef67bcfe19066a932b7673e239eb23d                  bebes   \n",
       "4  9dc1a7de274444849c219cff195d0b71  utilidades_domesticas   \n",
       "\n",
       "   product_name_lenght  product_description_lenght  product_photos_qty  \\\n",
       "0                 40.0                       287.0                 1.0   \n",
       "1                 44.0                       276.0                 1.0   \n",
       "2                 46.0                       250.0                 1.0   \n",
       "3                 27.0                       261.0                 1.0   \n",
       "4                 37.0                       402.0                 4.0   \n",
       "\n",
       "   product_weight_g  product_length_cm  product_height_cm  product_width_cm  \n",
       "0             225.0               16.0               10.0              14.0  \n",
       "1            1000.0               30.0               18.0              20.0  \n",
       "2             154.0               18.0                9.0              15.0  \n",
       "3             371.0               26.0                4.0              26.0  \n",
       "4             625.0               20.0               17.0              13.0  "
      ]
     },
     "execution_count": 25,
     "metadata": {},
     "output_type": "execute_result"
    }
   ],
   "source": [
    "products.head()"
   ]
  },
  {
   "cell_type": "code",
   "execution_count": 26,
   "metadata": {
    "execution": {
     "iopub.execute_input": "2020-09-09T02:54:48.003726Z",
     "iopub.status.busy": "2020-09-09T02:54:48.002952Z",
     "iopub.status.idle": "2020-09-09T02:54:48.010763Z",
     "shell.execute_reply": "2020-09-09T02:54:48.009892Z"
    },
    "papermill": {
     "duration": 0.039378,
     "end_time": "2020-09-09T02:54:48.010950",
     "exception": false,
     "start_time": "2020-09-09T02:54:47.971572",
     "status": "completed"
    },
    "tags": []
   },
   "outputs": [],
   "source": [
    "# product category name translation\n",
    "cat_tran = pd.read_csv(BASE_PATH/'product_category_name_translation.csv')"
   ]
  },
  {
   "cell_type": "code",
   "execution_count": 27,
   "metadata": {
    "execution": {
     "iopub.execute_input": "2020-09-09T02:54:48.126224Z",
     "iopub.status.busy": "2020-09-09T02:54:48.124974Z",
     "iopub.status.idle": "2020-09-09T02:54:48.129766Z",
     "shell.execute_reply": "2020-09-09T02:54:48.130419Z"
    },
    "papermill": {
     "duration": 0.039667,
     "end_time": "2020-09-09T02:54:48.130583",
     "exception": false,
     "start_time": "2020-09-09T02:54:48.090916",
     "status": "completed"
    },
    "tags": []
   },
   "outputs": [
    {
     "data": {
      "text/html": [
       "<div>\n",
       "<style scoped>\n",
       "    .dataframe tbody tr th:only-of-type {\n",
       "        vertical-align: middle;\n",
       "    }\n",
       "\n",
       "    .dataframe tbody tr th {\n",
       "        vertical-align: top;\n",
       "    }\n",
       "\n",
       "    .dataframe thead th {\n",
       "        text-align: right;\n",
       "    }\n",
       "</style>\n",
       "<table border=\"1\" class=\"dataframe\">\n",
       "  <thead>\n",
       "    <tr style=\"text-align: right;\">\n",
       "      <th></th>\n",
       "      <th>product_category_name</th>\n",
       "      <th>product_category_name_english</th>\n",
       "    </tr>\n",
       "  </thead>\n",
       "  <tbody>\n",
       "    <tr>\n",
       "      <th>0</th>\n",
       "      <td>beleza_saude</td>\n",
       "      <td>health_beauty</td>\n",
       "    </tr>\n",
       "    <tr>\n",
       "      <th>1</th>\n",
       "      <td>informatica_acessorios</td>\n",
       "      <td>computers_accessories</td>\n",
       "    </tr>\n",
       "    <tr>\n",
       "      <th>2</th>\n",
       "      <td>automotivo</td>\n",
       "      <td>auto</td>\n",
       "    </tr>\n",
       "    <tr>\n",
       "      <th>3</th>\n",
       "      <td>cama_mesa_banho</td>\n",
       "      <td>bed_bath_table</td>\n",
       "    </tr>\n",
       "    <tr>\n",
       "      <th>4</th>\n",
       "      <td>moveis_decoracao</td>\n",
       "      <td>furniture_decor</td>\n",
       "    </tr>\n",
       "  </tbody>\n",
       "</table>\n",
       "</div>"
      ],
      "text/plain": [
       "    product_category_name product_category_name_english\n",
       "0            beleza_saude                 health_beauty\n",
       "1  informatica_acessorios         computers_accessories\n",
       "2              automotivo                          auto\n",
       "3         cama_mesa_banho                bed_bath_table\n",
       "4        moveis_decoracao               furniture_decor"
      ]
     },
     "execution_count": 27,
     "metadata": {},
     "output_type": "execute_result"
    }
   ],
   "source": [
    "cat_tran.head()"
   ]
  },
  {
   "cell_type": "code",
   "execution_count": 28,
   "metadata": {
    "execution": {
     "iopub.execute_input": "2020-09-09T02:54:48.191953Z",
     "iopub.status.busy": "2020-09-09T02:54:48.190786Z",
     "iopub.status.idle": "2020-09-09T02:54:48.200093Z",
     "shell.execute_reply": "2020-09-09T02:54:48.199326Z"
    },
    "papermill": {
     "duration": 0.045856,
     "end_time": "2020-09-09T02:54:48.200226",
     "exception": false,
     "start_time": "2020-09-09T02:54:48.154370",
     "status": "completed"
    },
    "tags": []
   },
   "outputs": [
    {
     "data": {
      "text/plain": [
       "product_id                      0\n",
       "product_category_name         610\n",
       "product_name_lenght           610\n",
       "product_description_lenght    610\n",
       "product_photos_qty            610\n",
       "product_weight_g                2\n",
       "product_length_cm               2\n",
       "product_height_cm               2\n",
       "product_width_cm                2\n",
       "dtype: int64"
      ]
     },
     "execution_count": 28,
     "metadata": {},
     "output_type": "execute_result"
    }
   ],
   "source": [
    "products.isna().sum()"
   ]
  },
  {
   "cell_type": "code",
   "execution_count": 29,
   "metadata": {
    "execution": {
     "iopub.execute_input": "2020-09-09T02:54:48.260122Z",
     "iopub.status.busy": "2020-09-09T02:54:48.259133Z",
     "iopub.status.idle": "2020-09-09T02:54:48.263244Z",
     "shell.execute_reply": "2020-09-09T02:54:48.262517Z"
    },
    "papermill": {
     "duration": 0.039072,
     "end_time": "2020-09-09T02:54:48.263376",
     "exception": false,
     "start_time": "2020-09-09T02:54:48.224304",
     "status": "completed"
    },
    "tags": []
   },
   "outputs": [],
   "source": [
    "products['product_category_name'] = products['product_category_name'].fillna('na')"
   ]
  },
  {
   "cell_type": "code",
   "execution_count": 30,
   "metadata": {
    "execution": {
     "iopub.execute_input": "2020-09-09T02:54:48.323031Z",
     "iopub.status.busy": "2020-09-09T02:54:48.321998Z",
     "iopub.status.idle": "2020-09-09T02:54:48.339319Z",
     "shell.execute_reply": "2020-09-09T02:54:48.338262Z"
    },
    "papermill": {
     "duration": 0.052284,
     "end_time": "2020-09-09T02:54:48.339500",
     "exception": false,
     "start_time": "2020-09-09T02:54:48.287216",
     "status": "completed"
    },
    "tags": []
   },
   "outputs": [
    {
     "name": "stdout",
     "output_type": "stream",
     "text": [
      "(32951, 9)\n",
      "(32951, 10)\n"
     ]
    }
   ],
   "source": [
    "print(products.shape)\n",
    "products = products.merge(cat_tran, on='product_category_name', how='left')\n",
    "print(products.shape)"
   ]
  },
  {
   "cell_type": "code",
   "execution_count": 31,
   "metadata": {
    "execution": {
     "iopub.execute_input": "2020-09-09T02:54:48.400882Z",
     "iopub.status.busy": "2020-09-09T02:54:48.399985Z",
     "iopub.status.idle": "2020-09-09T02:54:48.413092Z",
     "shell.execute_reply": "2020-09-09T02:54:48.412370Z"
    },
    "papermill": {
     "duration": 0.049693,
     "end_time": "2020-09-09T02:54:48.413242",
     "exception": false,
     "start_time": "2020-09-09T02:54:48.363549",
     "status": "completed"
    },
    "tags": []
   },
   "outputs": [
    {
     "data": {
      "text/plain": [
       "product_id                         0\n",
       "product_category_name              0\n",
       "product_name_lenght              610\n",
       "product_description_lenght       610\n",
       "product_photos_qty               610\n",
       "product_weight_g                   2\n",
       "product_length_cm                  2\n",
       "product_height_cm                  2\n",
       "product_width_cm                   2\n",
       "product_category_name_english    623\n",
       "dtype: int64"
      ]
     },
     "execution_count": 31,
     "metadata": {},
     "output_type": "execute_result"
    }
   ],
   "source": [
    "products.isna().sum()"
   ]
  },
  {
   "cell_type": "code",
   "execution_count": 32,
   "metadata": {
    "execution": {
     "iopub.execute_input": "2020-09-09T02:54:48.472758Z",
     "iopub.status.busy": "2020-09-09T02:54:48.471719Z",
     "iopub.status.idle": "2020-09-09T02:54:48.476523Z",
     "shell.execute_reply": "2020-09-09T02:54:48.475727Z"
    },
    "papermill": {
     "duration": 0.039128,
     "end_time": "2020-09-09T02:54:48.476677",
     "exception": false,
     "start_time": "2020-09-09T02:54:48.437549",
     "status": "completed"
    },
    "tags": []
   },
   "outputs": [],
   "source": [
    "products['product_category_name_english'] = products['product_category_name_english'].fillna('na')"
   ]
  },
  {
   "cell_type": "code",
   "execution_count": 33,
   "metadata": {
    "execution": {
     "iopub.execute_input": "2020-09-09T02:54:48.551903Z",
     "iopub.status.busy": "2020-09-09T02:54:48.550459Z",
     "iopub.status.idle": "2020-09-09T02:54:49.574340Z",
     "shell.execute_reply": "2020-09-09T02:54:49.574969Z"
    },
    "papermill": {
     "duration": 1.07447,
     "end_time": "2020-09-09T02:54:49.575128",
     "exception": false,
     "start_time": "2020-09-09T02:54:48.500658",
     "status": "completed"
    },
    "tags": []
   },
   "outputs": [
    {
     "data": {
      "image/png": "[encoded data removed]",
      "text/plain": [
       "<Figure size 900x900 with 1 Axes>"
      ]
     },
     "metadata": {
      "needs_background": "light"
     },
     "output_type": "display_data"
    }
   ],
   "source": [
    "# check categories distribution from product meta data\n",
    "_ = products['product_category_name_english'].value_counts().plot.barh(figsize=(12.5,12.5))\n",
    "_ = plt.title('product count by category')"
   ]
  },
  {
   "cell_type": "code",
   "execution_count": 34,
   "metadata": {
    "execution": {
     "iopub.execute_input": "2020-09-09T02:54:49.632522Z",
     "iopub.status.busy": "2020-09-09T02:54:49.631536Z",
     "iopub.status.idle": "2020-09-09T02:54:49.638387Z",
     "shell.execute_reply": "2020-09-09T02:54:49.637587Z"
    },
    "papermill": {
     "duration": 0.038808,
     "end_time": "2020-09-09T02:54:49.638517",
     "exception": false,
     "start_time": "2020-09-09T02:54:49.599709",
     "status": "completed"
    },
    "tags": []
   },
   "outputs": [
    {
     "data": {
      "text/plain": [
       "72"
      ]
     },
     "execution_count": 34,
     "metadata": {},
     "output_type": "execute_result"
    }
   ],
   "source": [
    "products['product_category_name_english'].nunique()"
   ]
  },
  {
   "cell_type": "code",
   "execution_count": 35,
   "metadata": {
    "execution": {
     "iopub.execute_input": "2020-09-09T02:54:49.696440Z",
     "iopub.status.busy": "2020-09-09T02:54:49.695578Z",
     "iopub.status.idle": "2020-09-09T02:54:49.817582Z",
     "shell.execute_reply": "2020-09-09T02:54:49.816787Z"
    },
    "papermill": {
     "duration": 0.154365,
     "end_time": "2020-09-09T02:54:49.817713",
     "exception": false,
     "start_time": "2020-09-09T02:54:49.663348",
     "status": "completed"
    },
    "tags": []
   },
   "outputs": [
    {
     "name": "stdout",
     "output_type": "stream",
     "text": [
      "shape before merge:  (112650, 8)\n",
      "shape after merge:  (112650, 9)\n"
     ]
    }
   ],
   "source": [
    "# merge product categories\n",
    "print('shape before merge: ',order_item.shape)\n",
    "order_item = order_item.merge(products[['product_id','product_category_name_english']],on='product_id')\n",
    "print('shape after merge: ',order_item.shape)"
   ]
  },
  {
   "cell_type": "code",
   "execution_count": 36,
   "metadata": {
    "execution": {
     "iopub.execute_input": "2020-09-09T02:54:49.920491Z",
     "iopub.status.busy": "2020-09-09T02:54:49.900989Z",
     "iopub.status.idle": "2020-09-09T02:54:51.031233Z",
     "shell.execute_reply": "2020-09-09T02:54:51.030456Z"
    },
    "papermill": {
     "duration": 1.188777,
     "end_time": "2020-09-09T02:54:51.031381",
     "exception": false,
     "start_time": "2020-09-09T02:54:49.842604",
     "status": "completed"
    },
    "tags": []
   },
   "outputs": [
    {
     "data": {
      "image/png": "[encoded data removed]",
      "text/plain": [
       "<Figure size 900x900 with 1 Axes>"
      ]
     },
     "metadata": {
      "needs_background": "light"
     },
     "output_type": "display_data"
    }
   ],
   "source": [
    "_ = order_item['product_category_name_english'].value_counts().plot.barh(figsize=(12.5,12.5))\n",
    "_ = plt.title('product sales by categories')"
   ]
  },
  {
   "cell_type": "code",
   "execution_count": 37,
   "metadata": {
    "execution": {
     "iopub.execute_input": "2020-09-09T02:54:51.101938Z",
     "iopub.status.busy": "2020-09-09T02:54:51.100975Z",
     "iopub.status.idle": "2020-09-09T02:54:51.225076Z",
     "shell.execute_reply": "2020-09-09T02:54:51.224285Z"
    },
    "papermill": {
     "duration": 0.167616,
     "end_time": "2020-09-09T02:54:51.225208",
     "exception": false,
     "start_time": "2020-09-09T02:54:51.057592",
     "status": "completed"
    },
    "tags": []
   },
   "outputs": [],
   "source": [
    "# relation between number of products in categories and sales in categories\n",
    "cat_n_x_sales = products['product_category_name_english'].value_counts().reset_index().merge(\n",
    "order_item['product_category_name_english'].value_counts().reset_index(), on='index')\n",
    "cat_n_x_sales.columns = ['category', 'number of products in category', 'number of orders']"
   ]
  },
  {
   "cell_type": "code",
   "execution_count": 38,
   "metadata": {
    "execution": {
     "iopub.execute_input": "2020-09-09T02:54:51.296662Z",
     "iopub.status.busy": "2020-09-09T02:54:51.295623Z",
     "iopub.status.idle": "2020-09-09T02:54:51.301377Z",
     "shell.execute_reply": "2020-09-09T02:54:51.300636Z"
    },
    "papermill": {
     "duration": 0.050092,
     "end_time": "2020-09-09T02:54:51.301513",
     "exception": false,
     "start_time": "2020-09-09T02:54:51.251421",
     "status": "completed"
    },
    "tags": []
   },
   "outputs": [
    {
     "data": {
      "image/png": "[encoded data removed]",
      "text/plain": [
       "<Figure size 432x288 with 1 Axes>"
      ]
     },
     "metadata": {
      "needs_background": "light"
     },
     "output_type": "display_data"
    }
   ],
   "source": [
    "_ = sns.scatterplot(x='number of products in category', y='number of orders', data=cat_n_x_sales)\n",
    "_ = plt.title('number of orders in category vs. number of products in categories')"
   ]
  },
  {
   "cell_type": "markdown",
   "metadata": {
    "papermill": {
     "duration": 0.026497,
     "end_time": "2020-09-09T02:54:51.354529",
     "exception": false,
     "start_time": "2020-09-09T02:54:51.328032",
     "status": "completed"
    },
    "tags": []
   },
   "source": [
    "### Best selling sellers"
   ]
  },
  {
   "cell_type": "code",
   "execution_count": 39,
   "metadata": {
    "execution": {
     "iopub.execute_input": "2020-09-09T02:54:51.413737Z",
     "iopub.status.busy": "2020-09-09T02:54:51.412533Z",
     "iopub.status.idle": "2020-09-09T02:54:51.424525Z",
     "shell.execute_reply": "2020-09-09T02:54:51.425318Z"
    },
    "papermill": {
     "duration": 0.045036,
     "end_time": "2020-09-09T02:54:51.425482",
     "exception": false,
     "start_time": "2020-09-09T02:54:51.380446",
     "status": "completed"
    },
    "tags": []
   },
   "outputs": [],
   "source": [
    "# read sellers data\n",
    "sellers = pd.read_csv(BASE_PATH/'olist_sellers_dataset.csv')"
   ]
  },
  {
   "cell_type": "code",
   "execution_count": 40,
   "metadata": {
    "execution": {
     "iopub.execute_input": "2020-09-09T02:54:51.492729Z",
     "iopub.status.busy": "2020-09-09T02:54:51.491820Z",
     "iopub.status.idle": "2020-09-09T02:54:51.496441Z",
     "shell.execute_reply": "2020-09-09T02:54:51.495809Z"
    },
    "papermill": {
     "duration": 0.043951,
     "end_time": "2020-09-09T02:54:51.496583",
     "exception": false,
     "start_time": "2020-09-09T02:54:51.452632",
     "status": "completed"
    },
    "tags": []
   },
   "outputs": [
    {
     "data": {
      "text/html": [
       "<div>\n",
       "<style scoped>\n",
       "    .dataframe tbody tr th:only-of-type {\n",
       "        vertical-align: middle;\n",
       "    }\n",
       "\n",
       "    .dataframe tbody tr th {\n",
       "        vertical-align: top;\n",
       "    }\n",
       "\n",
       "    .dataframe thead th {\n",
       "        text-align: right;\n",
       "    }\n",
       "</style>\n",
       "<table border=\"1\" class=\"dataframe\">\n",
       "  <thead>\n",
       "    <tr style=\"text-align: right;\">\n",
       "      <th></th>\n",
       "      <th>seller_id</th>\n",
       "      <th>seller_zip_code_prefix</th>\n",
       "      <th>seller_city</th>\n",
       "      <th>seller_state</th>\n",
       "    </tr>\n",
       "  </thead>\n",
       "  <tbody>\n",
       "    <tr>\n",
       "      <th>0</th>\n",
       "      <td>3442f8959a84dea7ee197c632cb2df15</td>\n",
       "      <td>13023</td>\n",
       "      <td>campinas</td>\n",
       "      <td>SP</td>\n",
       "    </tr>\n",
       "    <tr>\n",
       "      <th>1</th>\n",
       "      <td>d1b65fc7debc3361ea86b5f14c68d2e2</td>\n",
       "      <td>13844</td>\n",
       "      <td>mogi guacu</td>\n",
       "      <td>SP</td>\n",
       "    </tr>\n",
       "    <tr>\n",
       "      <th>2</th>\n",
       "      <td>ce3ad9de960102d0677a81f5d0bb7b2d</td>\n",
       "      <td>20031</td>\n",
       "      <td>rio de janeiro</td>\n",
       "      <td>RJ</td>\n",
       "    </tr>\n",
       "    <tr>\n",
       "      <th>3</th>\n",
       "      <td>c0f3eea2e14555b6faeea3dd58c1b1c3</td>\n",
       "      <td>4195</td>\n",
       "      <td>sao paulo</td>\n",
       "      <td>SP</td>\n",
       "    </tr>\n",
       "    <tr>\n",
       "      <th>4</th>\n",
       "      <td>51a04a8a6bdcb23deccc82b0b80742cf</td>\n",
       "      <td>12914</td>\n",
       "      <td>braganca paulista</td>\n",
       "      <td>SP</td>\n",
       "    </tr>\n",
       "  </tbody>\n",
       "</table>\n",
       "</div>"
      ],
      "text/plain": [
       "                          seller_id  seller_zip_code_prefix  \\\n",
       "0  3442f8959a84dea7ee197c632cb2df15                   13023   \n",
       "1  d1b65fc7debc3361ea86b5f14c68d2e2                   13844   \n",
       "2  ce3ad9de960102d0677a81f5d0bb7b2d                   20031   \n",
       "3  c0f3eea2e14555b6faeea3dd58c1b1c3                    4195   \n",
       "4  51a04a8a6bdcb23deccc82b0b80742cf                   12914   \n",
       "\n",
       "         seller_city seller_state  \n",
       "0           campinas           SP  \n",
       "1         mogi guacu           SP  \n",
       "2     rio de janeiro           RJ  \n",
       "3          sao paulo           SP  \n",
       "4  braganca paulista           SP  "
      ]
     },
     "execution_count": 40,
     "metadata": {},
     "output_type": "execute_result"
    }
   ],
   "source": [
    "sellers.head()"
   ]
  },
  {
   "cell_type": "code",
   "execution_count": 41,
   "metadata": {
    "execution": {
     "iopub.execute_input": "2020-09-09T02:54:51.564447Z",
     "iopub.status.busy": "2020-09-09T02:54:51.563675Z",
     "iopub.status.idle": "2020-09-09T02:54:51.913061Z",
     "shell.execute_reply": "2020-09-09T02:54:51.912368Z"
    },
    "papermill": {
     "duration": 0.390251,
     "end_time": "2020-09-09T02:54:51.913223",
     "exception": false,
     "start_time": "2020-09-09T02:54:51.522972",
     "status": "completed"
    },
    "tags": []
   },
   "outputs": [
    {
     "name": "stderr",
     "output_type": "stream",
     "text": [
      "/anaconda3/lib/python3.7/site-packages/seaborn/distributions.py:2551: FutureWarning: `distplot` is a deprecated function and will be removed in a future version. Please adapt your code to use either `displot` (a figure-level function with similar flexibility) or `histplot` (an axes-level function for histograms).\n",
      "  warnings.warn(msg, FutureWarning)\n"
     ]
    },
    {
     "data": {
      "image/png": "[encoded data removed]",
      "text/plain": [
       "<Figure size 432x288 with 1 Axes>"
      ]
     },
     "metadata": {
      "needs_background": "light"
     },
     "output_type": "display_data"
    }
   ],
   "source": [
    "# just ignore sellers data at the moment\n",
    "_ = sns.distplot(order_item.groupby(['seller_id'])['order_id'].nunique())"
   ]
  },
  {
   "cell_type": "code",
   "execution_count": 42,
   "metadata": {
    "execution": {
     "iopub.execute_input": "2020-09-09T02:54:51.981873Z",
     "iopub.status.busy": "2020-09-09T02:54:51.981045Z",
     "iopub.status.idle": "2020-09-09T02:54:52.063907Z",
     "shell.execute_reply": "2020-09-09T02:54:52.063197Z"
    },
    "papermill": {
     "duration": 0.124306,
     "end_time": "2020-09-09T02:54:52.064032",
     "exception": false,
     "start_time": "2020-09-09T02:54:51.939726",
     "status": "completed"
    },
    "tags": []
   },
   "outputs": [
    {
     "data": {
      "text/plain": [
       "count    3095.000000\n",
       "mean       32.313409\n",
       "std       105.139763\n",
       "min         1.000000\n",
       "25%         2.000000\n",
       "50%         6.000000\n",
       "75%        21.500000\n",
       "max      1854.000000\n",
       "Name: order_id, dtype: float64"
      ]
     },
     "execution_count": 42,
     "metadata": {},
     "output_type": "execute_result"
    }
   ],
   "source": [
    "order_item.groupby(['seller_id'])['order_id'].nunique().describe()"
   ]
  },
  {
   "cell_type": "code",
   "execution_count": 43,
   "metadata": {
    "execution": {
     "iopub.execute_input": "2020-09-09T02:54:52.143489Z",
     "iopub.status.busy": "2020-09-09T02:54:52.142341Z",
     "iopub.status.idle": "2020-09-09T02:54:52.148317Z",
     "shell.execute_reply": "2020-09-09T02:54:52.147498Z"
    },
    "papermill": {
     "duration": 0.057569,
     "end_time": "2020-09-09T02:54:52.148459",
     "exception": false,
     "start_time": "2020-09-09T02:54:52.090890",
     "status": "completed"
    },
    "tags": []
   },
   "outputs": [
    {
     "data": {
      "text/html": [
       "<div>\n",
       "<style scoped>\n",
       "    .dataframe tbody tr th:only-of-type {\n",
       "        vertical-align: middle;\n",
       "    }\n",
       "\n",
       "    .dataframe tbody tr th {\n",
       "        vertical-align: top;\n",
       "    }\n",
       "\n",
       "    .dataframe thead th {\n",
       "        text-align: right;\n",
       "    }\n",
       "</style>\n",
       "<table border=\"1\" class=\"dataframe\">\n",
       "  <thead>\n",
       "    <tr style=\"text-align: right;\">\n",
       "      <th></th>\n",
       "      <th>order_id</th>\n",
       "      <th>customer_id</th>\n",
       "      <th>order_status</th>\n",
       "      <th>order_purchase_timestamp</th>\n",
       "      <th>order_approved_at</th>\n",
       "      <th>order_delivered_carrier_date</th>\n",
       "      <th>order_delivered_customer_date</th>\n",
       "      <th>order_estimated_delivery_date</th>\n",
       "      <th>order_purchase_timestamp_as_date</th>\n",
       "      <th>order_approved_at_as_date</th>\n",
       "      <th>order_delivered_carrier_date_as_date</th>\n",
       "      <th>order_delivered_customer_date_as_date</th>\n",
       "      <th>order_estimated_delivery_date_as_date</th>\n",
       "      <th>customer_unique_id</th>\n",
       "    </tr>\n",
       "  </thead>\n",
       "  <tbody>\n",
       "    <tr>\n",
       "      <th>0</th>\n",
       "      <td>e481f51cbdc54678b7cc49136f2d6af7</td>\n",
       "      <td>9ef432eb6251297304e76186b10a928d</td>\n",
       "      <td>delivered</td>\n",
       "      <td>2017-10-02 10:56:33</td>\n",
       "      <td>2017-10-02 11:07:15</td>\n",
       "      <td>2017-10-04 19:55:00</td>\n",
       "      <td>2017-10-10 21:25:13</td>\n",
       "      <td>2017-10-18 00:00:00</td>\n",
       "      <td>2017-10-02</td>\n",
       "      <td>2017-10-02</td>\n",
       "      <td>2017-10-04</td>\n",
       "      <td>2017-10-10</td>\n",
       "      <td>2017-10-18</td>\n",
       "      <td>7c396fd4830fd04220f754e42b4e5bff</td>\n",
       "    </tr>\n",
       "    <tr>\n",
       "      <th>1</th>\n",
       "      <td>53cdb2fc8bc7dce0b6741e2150273451</td>\n",
       "      <td>b0830fb4747a6c6d20dea0b8c802d7ef</td>\n",
       "      <td>delivered</td>\n",
       "      <td>2018-07-24 20:41:37</td>\n",
       "      <td>2018-07-26 03:24:27</td>\n",
       "      <td>2018-07-26 14:31:00</td>\n",
       "      <td>2018-08-07 15:27:45</td>\n",
       "      <td>2018-08-13 00:00:00</td>\n",
       "      <td>2018-07-24</td>\n",
       "      <td>2018-07-26</td>\n",
       "      <td>2018-07-26</td>\n",
       "      <td>2018-08-07</td>\n",
       "      <td>2018-08-13</td>\n",
       "      <td>af07308b275d755c9edb36a90c618231</td>\n",
       "    </tr>\n",
       "    <tr>\n",
       "      <th>2</th>\n",
       "      <td>47770eb9100c2d0c44946d9cf07ec65d</td>\n",
       "      <td>41ce2a54c0b03bf3443c3d931a367089</td>\n",
       "      <td>delivered</td>\n",
       "      <td>2018-08-08 08:38:49</td>\n",
       "      <td>2018-08-08 08:55:23</td>\n",
       "      <td>2018-08-08 13:50:00</td>\n",
       "      <td>2018-08-17 18:06:29</td>\n",
       "      <td>2018-09-04 00:00:00</td>\n",
       "      <td>2018-08-08</td>\n",
       "      <td>2018-08-08</td>\n",
       "      <td>2018-08-08</td>\n",
       "      <td>2018-08-17</td>\n",
       "      <td>2018-09-04</td>\n",
       "      <td>3a653a41f6f9fc3d2a113cf8398680e8</td>\n",
       "    </tr>\n",
       "    <tr>\n",
       "      <th>3</th>\n",
       "      <td>949d5b44dbf5de918fe9c16f97b45f8a</td>\n",
       "      <td>f88197465ea7920adcdbec7375364d82</td>\n",
       "      <td>delivered</td>\n",
       "      <td>2017-11-18 19:28:06</td>\n",
       "      <td>2017-11-18 19:45:59</td>\n",
       "      <td>2017-11-22 13:39:59</td>\n",
       "      <td>2017-12-02 00:28:42</td>\n",
       "      <td>2017-12-15 00:00:00</td>\n",
       "      <td>2017-11-18</td>\n",
       "      <td>2017-11-18</td>\n",
       "      <td>2017-11-22</td>\n",
       "      <td>2017-12-02</td>\n",
       "      <td>2017-12-15</td>\n",
       "      <td>7c142cf63193a1473d2e66489a9ae977</td>\n",
       "    </tr>\n",
       "    <tr>\n",
       "      <th>4</th>\n",
       "      <td>ad21c59c0840e6cb83a9ceb5573f8159</td>\n",
       "      <td>8ab97904e6daea8866dbdbc4fb7aad2c</td>\n",
       "      <td>delivered</td>\n",
       "      <td>2018-02-13 21:18:39</td>\n",
       "      <td>2018-02-13 22:20:29</td>\n",
       "      <td>2018-02-14 19:46:34</td>\n",
       "      <td>2018-02-16 18:17:02</td>\n",
       "      <td>2018-02-26 00:00:00</td>\n",
       "      <td>2018-02-13</td>\n",
       "      <td>2018-02-13</td>\n",
       "      <td>2018-02-14</td>\n",
       "      <td>2018-02-16</td>\n",
       "      <td>2018-02-26</td>\n",
       "      <td>72632f0f9dd73dfee390c9b22eb56dd6</td>\n",
       "    </tr>\n",
       "  </tbody>\n",
       "</table>\n",
       "</div>"
      ],
      "text/plain": [
       "                           order_id                       customer_id  \\\n",
       "0  e481f51cbdc54678b7cc49136f2d6af7  9ef432eb6251297304e76186b10a928d   \n",
       "1  53cdb2fc8bc7dce0b6741e2150273451  b0830fb4747a6c6d20dea0b8c802d7ef   \n",
       "2  47770eb9100c2d0c44946d9cf07ec65d  41ce2a54c0b03bf3443c3d931a367089   \n",
       "3  949d5b44dbf5de918fe9c16f97b45f8a  f88197465ea7920adcdbec7375364d82   \n",
       "4  ad21c59c0840e6cb83a9ceb5573f8159  8ab97904e6daea8866dbdbc4fb7aad2c   \n",
       "\n",
       "  order_status order_purchase_timestamp    order_approved_at  \\\n",
       "0    delivered      2017-10-02 10:56:33  2017-10-02 11:07:15   \n",
       "1    delivered      2018-07-24 20:41:37  2018-07-26 03:24:27   \n",
       "2    delivered      2018-08-08 08:38:49  2018-08-08 08:55:23   \n",
       "3    delivered      2017-11-18 19:28:06  2017-11-18 19:45:59   \n",
       "4    delivered      2018-02-13 21:18:39  2018-02-13 22:20:29   \n",
       "\n",
       "  order_delivered_carrier_date order_delivered_customer_date  \\\n",
       "0          2017-10-04 19:55:00           2017-10-10 21:25:13   \n",
       "1          2018-07-26 14:31:00           2018-08-07 15:27:45   \n",
       "2          2018-08-08 13:50:00           2018-08-17 18:06:29   \n",
       "3          2017-11-22 13:39:59           2017-12-02 00:28:42   \n",
       "4          2018-02-14 19:46:34           2018-02-16 18:17:02   \n",
       "\n",
       "  order_estimated_delivery_date order_purchase_timestamp_as_date  \\\n",
       "0           2017-10-18 00:00:00                       2017-10-02   \n",
       "1           2018-08-13 00:00:00                       2018-07-24   \n",
       "2           2018-09-04 00:00:00                       2018-08-08   \n",
       "3           2017-12-15 00:00:00                       2017-11-18   \n",
       "4           2018-02-26 00:00:00                       2018-02-13   \n",
       "\n",
       "  order_approved_at_as_date order_delivered_carrier_date_as_date  \\\n",
       "0                2017-10-02                           2017-10-04   \n",
       "1                2018-07-26                           2018-07-26   \n",
       "2                2018-08-08                           2018-08-08   \n",
       "3                2017-11-18                           2017-11-22   \n",
       "4                2018-02-13                           2018-02-14   \n",
       "\n",
       "  order_delivered_customer_date_as_date order_estimated_delivery_date_as_date  \\\n",
       "0                            2017-10-10                            2017-10-18   \n",
       "1                            2018-08-07                            2018-08-13   \n",
       "2                            2018-08-17                            2018-09-04   \n",
       "3                            2017-12-02                            2017-12-15   \n",
       "4                            2018-02-16                            2018-02-26   \n",
       "\n",
       "                 customer_unique_id  \n",
       "0  7c396fd4830fd04220f754e42b4e5bff  \n",
       "1  af07308b275d755c9edb36a90c618231  \n",
       "2  3a653a41f6f9fc3d2a113cf8398680e8  \n",
       "3  7c142cf63193a1473d2e66489a9ae977  \n",
       "4  72632f0f9dd73dfee390c9b22eb56dd6  "
      ]
     },
     "execution_count": 43,
     "metadata": {},
     "output_type": "execute_result"
    }
   ],
   "source": [
    "order.head()"
   ]
  },
  {
   "cell_type": "markdown",
   "metadata": {
    "papermill": {
     "duration": 0.02805,
     "end_time": "2020-09-09T02:54:52.204150",
     "exception": false,
     "start_time": "2020-09-09T02:54:52.176100",
     "status": "completed"
    },
    "tags": []
   },
   "source": [
    "### Product reiew"
   ]
  },
  {
   "cell_type": "code",
   "execution_count": 44,
   "metadata": {
    "execution": {
     "iopub.execute_input": "2020-09-09T02:54:52.267276Z",
     "iopub.status.busy": "2020-09-09T02:54:52.266439Z",
     "iopub.status.idle": "2020-09-09T02:54:52.744331Z",
     "shell.execute_reply": "2020-09-09T02:54:52.743658Z"
    },
    "papermill": {
     "duration": 0.512017,
     "end_time": "2020-09-09T02:54:52.744467",
     "exception": false,
     "start_time": "2020-09-09T02:54:52.232450",
     "status": "completed"
    },
    "tags": []
   },
   "outputs": [],
   "source": [
    "review = pd.read_csv(BASE_PATH/'olist_order_reviews_dataset.csv')"
   ]
  },
  {
   "cell_type": "code",
   "execution_count": 45,
   "metadata": {
    "execution": {
     "iopub.execute_input": "2020-09-09T02:54:52.832695Z",
     "iopub.status.busy": "2020-09-09T02:54:52.831618Z",
     "iopub.status.idle": "2020-09-09T02:54:52.836524Z",
     "shell.execute_reply": "2020-09-09T02:54:52.835754Z"
    },
    "papermill": {
     "duration": 0.064483,
     "end_time": "2020-09-09T02:54:52.836677",
     "exception": false,
     "start_time": "2020-09-09T02:54:52.772194",
     "status": "completed"
    },
    "tags": []
   },
   "outputs": [
    {
     "data": {
      "text/html": [
       "<div>\n",
       "<style scoped>\n",
       "    .dataframe tbody tr th:only-of-type {\n",
       "        vertical-align: middle;\n",
       "    }\n",
       "\n",
       "    .dataframe tbody tr th {\n",
       "        vertical-align: top;\n",
       "    }\n",
       "\n",
       "    .dataframe thead th {\n",
       "        text-align: right;\n",
       "    }\n",
       "</style>\n",
       "<table border=\"1\" class=\"dataframe\">\n",
       "  <thead>\n",
       "    <tr style=\"text-align: right;\">\n",
       "      <th></th>\n",
       "      <th>review_id</th>\n",
       "      <th>order_id</th>\n",
       "      <th>review_score</th>\n",
       "      <th>review_comment_title</th>\n",
       "      <th>review_comment_message</th>\n",
       "      <th>review_creation_date</th>\n",
       "      <th>review_answer_timestamp</th>\n",
       "    </tr>\n",
       "  </thead>\n",
       "  <tbody>\n",
       "    <tr>\n",
       "      <th>0</th>\n",
       "      <td>7bc2406110b926393aa56f80a40eba40</td>\n",
       "      <td>73fc7af87114b39712e6da79b0a377eb</td>\n",
       "      <td>4</td>\n",
       "      <td>NaN</td>\n",
       "      <td>NaN</td>\n",
       "      <td>2018-01-18 00:00:00</td>\n",
       "      <td>2018-01-18 21:46:59</td>\n",
       "    </tr>\n",
       "    <tr>\n",
       "      <th>1</th>\n",
       "      <td>80e641a11e56f04c1ad469d5645fdfde</td>\n",
       "      <td>a548910a1c6147796b98fdf73dbeba33</td>\n",
       "      <td>5</td>\n",
       "      <td>NaN</td>\n",
       "      <td>NaN</td>\n",
       "      <td>2018-03-10 00:00:00</td>\n",
       "      <td>2018-03-11 03:05:13</td>\n",
       "    </tr>\n",
       "    <tr>\n",
       "      <th>2</th>\n",
       "      <td>228ce5500dc1d8e020d8d1322874b6f0</td>\n",
       "      <td>f9e4b658b201a9f2ecdecbb34bed034b</td>\n",
       "      <td>5</td>\n",
       "      <td>NaN</td>\n",
       "      <td>NaN</td>\n",
       "      <td>2018-02-17 00:00:00</td>\n",
       "      <td>2018-02-18 14:36:24</td>\n",
       "    </tr>\n",
       "    <tr>\n",
       "      <th>3</th>\n",
       "      <td>e64fb393e7b32834bb789ff8bb30750e</td>\n",
       "      <td>658677c97b385a9be170737859d3511b</td>\n",
       "      <td>5</td>\n",
       "      <td>NaN</td>\n",
       "      <td>Recebi bem antes do prazo estipulado.</td>\n",
       "      <td>2017-04-21 00:00:00</td>\n",
       "      <td>2017-04-21 22:02:06</td>\n",
       "    </tr>\n",
       "    <tr>\n",
       "      <th>4</th>\n",
       "      <td>f7c4243c7fe1938f181bec41a392bdeb</td>\n",
       "      <td>8e6bfb81e283fa7e4f11123a3fb894f1</td>\n",
       "      <td>5</td>\n",
       "      <td>NaN</td>\n",
       "      <td>Parabéns lojas lannister adorei comprar pela I...</td>\n",
       "      <td>2018-03-01 00:00:00</td>\n",
       "      <td>2018-03-02 10:26:53</td>\n",
       "    </tr>\n",
       "  </tbody>\n",
       "</table>\n",
       "</div>"
      ],
      "text/plain": [
       "                          review_id                          order_id  \\\n",
       "0  7bc2406110b926393aa56f80a40eba40  73fc7af87114b39712e6da79b0a377eb   \n",
       "1  80e641a11e56f04c1ad469d5645fdfde  a548910a1c6147796b98fdf73dbeba33   \n",
       "2  228ce5500dc1d8e020d8d1322874b6f0  f9e4b658b201a9f2ecdecbb34bed034b   \n",
       "3  e64fb393e7b32834bb789ff8bb30750e  658677c97b385a9be170737859d3511b   \n",
       "4  f7c4243c7fe1938f181bec41a392bdeb  8e6bfb81e283fa7e4f11123a3fb894f1   \n",
       "\n",
       "   review_score review_comment_title  \\\n",
       "0             4                  NaN   \n",
       "1             5                  NaN   \n",
       "2             5                  NaN   \n",
       "3             5                  NaN   \n",
       "4             5                  NaN   \n",
       "\n",
       "                              review_comment_message review_creation_date  \\\n",
       "0                                                NaN  2018-01-18 00:00:00   \n",
       "1                                                NaN  2018-03-10 00:00:00   \n",
       "2                                                NaN  2018-02-17 00:00:00   \n",
       "3              Recebi bem antes do prazo estipulado.  2017-04-21 00:00:00   \n",
       "4  Parabéns lojas lannister adorei comprar pela I...  2018-03-01 00:00:00   \n",
       "\n",
       "  review_answer_timestamp  \n",
       "0     2018-01-18 21:46:59  \n",
       "1     2018-03-11 03:05:13  \n",
       "2     2018-02-18 14:36:24  \n",
       "3     2017-04-21 22:02:06  \n",
       "4     2018-03-02 10:26:53  "
      ]
     },
     "execution_count": 45,
     "metadata": {},
     "output_type": "execute_result"
    }
   ],
   "source": [
    "review.head()"
   ]
  },
  {
   "cell_type": "code",
   "execution_count": 46,
   "metadata": {
    "execution": {
     "iopub.execute_input": "2020-09-09T02:54:52.907341Z",
     "iopub.status.busy": "2020-09-09T02:54:52.906469Z",
     "iopub.status.idle": "2020-09-09T02:54:52.953518Z",
     "shell.execute_reply": "2020-09-09T02:54:52.952726Z"
    },
    "papermill": {
     "duration": 0.08884,
     "end_time": "2020-09-09T02:54:52.953648",
     "exception": false,
     "start_time": "2020-09-09T02:54:52.864808",
     "status": "completed"
    },
    "tags": []
   },
   "outputs": [
    {
     "ename": "AssertionError",
     "evalue": "",
     "output_type": "error",
     "traceback": [
      "\u001b[0;31m---------------------------------------------------------------------------\u001b[0m",
      "\u001b[0;31mAssertionError\u001b[0m                            Traceback (most recent call last)",
      "\u001b[0;32m<ipython-input-46-364574f86f34>\u001b[0m in \u001b[0;36m<module>\u001b[0;34m\u001b[0m\n\u001b[0;32m----> 1\u001b[0;31m \u001b[0;32massert\u001b[0m \u001b[0mreview\u001b[0m\u001b[0;34m[\u001b[0m\u001b[0;34m'order_id'\u001b[0m\u001b[0;34m]\u001b[0m\u001b[0;34m.\u001b[0m\u001b[0mnunique\u001b[0m\u001b[0;34m(\u001b[0m\u001b[0;34m)\u001b[0m \u001b[0;34m==\u001b[0m \u001b[0mlen\u001b[0m\u001b[0;34m(\u001b[0m\u001b[0mreview\u001b[0m\u001b[0;34m)\u001b[0m\u001b[0;34m\u001b[0m\u001b[0;34m\u001b[0m\u001b[0m\n\u001b[0m",
      "\u001b[0;31mAssertionError\u001b[0m: "
     ]
    }
   ],
   "source": [
    "assert review['order_id'].nunique() == len(review)"
   ]
  },
  {
   "cell_type": "code",
   "execution_count": 47,
   "metadata": {
    "execution": {
     "iopub.execute_input": "2020-09-09T02:54:53.023640Z",
     "iopub.status.busy": "2020-09-09T02:54:53.022862Z",
     "iopub.status.idle": "2020-09-09T02:54:53.060290Z",
     "shell.execute_reply": "2020-09-09T02:54:53.059630Z"
    },
    "papermill": {
     "duration": 0.07877,
     "end_time": "2020-09-09T02:54:53.060423",
     "exception": false,
     "start_time": "2020-09-09T02:54:52.981653",
     "status": "completed"
    },
    "tags": []
   },
   "outputs": [
    {
     "data": {
      "text/plain": [
       "(99441, 100000)"
      ]
     },
     "execution_count": 47,
     "metadata": {},
     "output_type": "execute_result"
    }
   ],
   "source": [
    " review['order_id'].nunique(), len(review)"
   ]
  },
  {
   "cell_type": "code",
   "execution_count": 48,
   "metadata": {
    "execution": {
     "iopub.execute_input": "2020-09-09T02:54:53.132352Z",
     "iopub.status.busy": "2020-09-09T02:54:53.131545Z",
     "iopub.status.idle": "2020-09-09T02:55:18.796041Z",
     "shell.execute_reply": "2020-09-09T02:55:18.795378Z"
    },
    "papermill": {
     "duration": 25.707291,
     "end_time": "2020-09-09T02:55:18.796166",
     "exception": false,
     "start_time": "2020-09-09T02:54:53.088875",
     "status": "completed"
    },
    "tags": []
   },
   "outputs": [
    {
     "data": {
      "text/html": [
       "<div>\n",
       "<style scoped>\n",
       "    .dataframe tbody tr th:only-of-type {\n",
       "        vertical-align: middle;\n",
       "    }\n",
       "\n",
       "    .dataframe tbody tr th {\n",
       "        vertical-align: top;\n",
       "    }\n",
       "\n",
       "    .dataframe thead th {\n",
       "        text-align: right;\n",
       "    }\n",
       "</style>\n",
       "<table border=\"1\" class=\"dataframe\">\n",
       "  <thead>\n",
       "    <tr style=\"text-align: right;\">\n",
       "      <th></th>\n",
       "      <th>review_id</th>\n",
       "      <th>order_id</th>\n",
       "      <th>review_score</th>\n",
       "      <th>review_comment_title</th>\n",
       "      <th>review_comment_message</th>\n",
       "      <th>review_creation_date</th>\n",
       "      <th>review_answer_timestamp</th>\n",
       "    </tr>\n",
       "  </thead>\n",
       "  <tbody>\n",
       "    <tr>\n",
       "      <th>22585</th>\n",
       "      <td>2a74b0559eb58fc1ff842ecc999594cb</td>\n",
       "      <td>0035246a40f520710769010f752e7507</td>\n",
       "      <td>5</td>\n",
       "      <td>NaN</td>\n",
       "      <td>Estou acostumada a comprar produtos pelo barat...</td>\n",
       "      <td>2017-08-25 00:00:00</td>\n",
       "      <td>2017-08-29 21:45:57</td>\n",
       "    </tr>\n",
       "    <tr>\n",
       "      <th>25802</th>\n",
       "      <td>89a02c45c340aeeb1354a24e7d4b2c1e</td>\n",
       "      <td>0035246a40f520710769010f752e7507</td>\n",
       "      <td>5</td>\n",
       "      <td>NaN</td>\n",
       "      <td>NaN</td>\n",
       "      <td>2017-08-29 00:00:00</td>\n",
       "      <td>2017-08-30 01:59:12</td>\n",
       "    </tr>\n",
       "    <tr>\n",
       "      <th>69191</th>\n",
       "      <td>73413b847f63e02bc752b364f6d05ee9</td>\n",
       "      <td>013056cfe49763c6f66bda03396c5ee3</td>\n",
       "      <td>4</td>\n",
       "      <td>NaN</td>\n",
       "      <td>NaN</td>\n",
       "      <td>2018-03-04 00:00:00</td>\n",
       "      <td>2018-03-05 17:02:00</td>\n",
       "    </tr>\n",
       "    <tr>\n",
       "      <th>22946</th>\n",
       "      <td>ab30810c29da5da8045216f0f62652a2</td>\n",
       "      <td>013056cfe49763c6f66bda03396c5ee3</td>\n",
       "      <td>5</td>\n",
       "      <td>NaN</td>\n",
       "      <td>NaN</td>\n",
       "      <td>2018-02-22 00:00:00</td>\n",
       "      <td>2018-02-23 12:12:30</td>\n",
       "    </tr>\n",
       "    <tr>\n",
       "      <th>857</th>\n",
       "      <td>830636803620cdf8b6ffaf1b2f6e92b2</td>\n",
       "      <td>0176a6846bcb3b0d3aa3116a9a768597</td>\n",
       "      <td>5</td>\n",
       "      <td>NaN</td>\n",
       "      <td>NaN</td>\n",
       "      <td>2017-12-30 00:00:00</td>\n",
       "      <td>2018-01-02 10:54:06</td>\n",
       "    </tr>\n",
       "    <tr>\n",
       "      <th>...</th>\n",
       "      <td>...</td>\n",
       "      <td>...</td>\n",
       "      <td>...</td>\n",
       "      <td>...</td>\n",
       "      <td>...</td>\n",
       "      <td>...</td>\n",
       "      <td>...</td>\n",
       "    </tr>\n",
       "    <tr>\n",
       "      <th>95246</th>\n",
       "      <td>c56a88a404315a0d9e412c1472dda2c4</td>\n",
       "      <td>ff763b73e473d03c321bcd5a053316e8</td>\n",
       "      <td>5</td>\n",
       "      <td>NaN</td>\n",
       "      <td>NaN</td>\n",
       "      <td>2017-11-01 00:00:00</td>\n",
       "      <td>2017-11-01 19:55:52</td>\n",
       "    </tr>\n",
       "    <tr>\n",
       "      <th>41665</th>\n",
       "      <td>39de8ad3a1a494fc68cc2d5382f052f4</td>\n",
       "      <td>ff850ba359507b996e8b2fbb26df8d03</td>\n",
       "      <td>5</td>\n",
       "      <td>NaN</td>\n",
       "      <td>Envio rapido... Produto 100%</td>\n",
       "      <td>2017-08-16 00:00:00</td>\n",
       "      <td>2017-08-17 11:56:55</td>\n",
       "    </tr>\n",
       "    <tr>\n",
       "      <th>18916</th>\n",
       "      <td>80f25f32c00540d49d57796fb6658535</td>\n",
       "      <td>ff850ba359507b996e8b2fbb26df8d03</td>\n",
       "      <td>5</td>\n",
       "      <td>NaN</td>\n",
       "      <td>Envio rapido, produto conforme descrito no anu...</td>\n",
       "      <td>2017-08-22 00:00:00</td>\n",
       "      <td>2017-08-25 11:40:22</td>\n",
       "    </tr>\n",
       "    <tr>\n",
       "      <th>54388</th>\n",
       "      <td>5476dd0eaee7c4e2725cafb011aa758c</td>\n",
       "      <td>ffaabba06c9d293a3c614e0515ddbabc</td>\n",
       "      <td>3</td>\n",
       "      <td>NaN</td>\n",
       "      <td>NaN</td>\n",
       "      <td>2017-12-20 00:00:00</td>\n",
       "      <td>2017-12-21 13:24:55</td>\n",
       "    </tr>\n",
       "    <tr>\n",
       "      <th>92957</th>\n",
       "      <td>870d856a4873d3a67252b0c51d79b950</td>\n",
       "      <td>ffaabba06c9d293a3c614e0515ddbabc</td>\n",
       "      <td>3</td>\n",
       "      <td>NaN</td>\n",
       "      <td>NaN</td>\n",
       "      <td>2017-12-20 00:00:00</td>\n",
       "      <td>2017-12-20 18:50:16</td>\n",
       "    </tr>\n",
       "  </tbody>\n",
       "</table>\n",
       "<p>1114 rows × 7 columns</p>\n",
       "</div>"
      ],
      "text/plain": [
       "                              review_id                          order_id  \\\n",
       "22585  2a74b0559eb58fc1ff842ecc999594cb  0035246a40f520710769010f752e7507   \n",
       "25802  89a02c45c340aeeb1354a24e7d4b2c1e  0035246a40f520710769010f752e7507   \n",
       "69191  73413b847f63e02bc752b364f6d05ee9  013056cfe49763c6f66bda03396c5ee3   \n",
       "22946  ab30810c29da5da8045216f0f62652a2  013056cfe49763c6f66bda03396c5ee3   \n",
       "857    830636803620cdf8b6ffaf1b2f6e92b2  0176a6846bcb3b0d3aa3116a9a768597   \n",
       "...                                 ...                               ...   \n",
       "95246  c56a88a404315a0d9e412c1472dda2c4  ff763b73e473d03c321bcd5a053316e8   \n",
       "41665  39de8ad3a1a494fc68cc2d5382f052f4  ff850ba359507b996e8b2fbb26df8d03   \n",
       "18916  80f25f32c00540d49d57796fb6658535  ff850ba359507b996e8b2fbb26df8d03   \n",
       "54388  5476dd0eaee7c4e2725cafb011aa758c  ffaabba06c9d293a3c614e0515ddbabc   \n",
       "92957  870d856a4873d3a67252b0c51d79b950  ffaabba06c9d293a3c614e0515ddbabc   \n",
       "\n",
       "       review_score review_comment_title  \\\n",
       "22585             5                  NaN   \n",
       "25802             5                  NaN   \n",
       "69191             4                  NaN   \n",
       "22946             5                  NaN   \n",
       "857               5                  NaN   \n",
       "...             ...                  ...   \n",
       "95246             5                  NaN   \n",
       "41665             5                  NaN   \n",
       "18916             5                  NaN   \n",
       "54388             3                  NaN   \n",
       "92957             3                  NaN   \n",
       "\n",
       "                                  review_comment_message review_creation_date  \\\n",
       "22585  Estou acostumada a comprar produtos pelo barat...  2017-08-25 00:00:00   \n",
       "25802                                                NaN  2017-08-29 00:00:00   \n",
       "69191                                                NaN  2018-03-04 00:00:00   \n",
       "22946                                                NaN  2018-02-22 00:00:00   \n",
       "857                                                  NaN  2017-12-30 00:00:00   \n",
       "...                                                  ...                  ...   \n",
       "95246                                                NaN  2017-11-01 00:00:00   \n",
       "41665                       Envio rapido... Produto 100%  2017-08-16 00:00:00   \n",
       "18916  Envio rapido, produto conforme descrito no anu...  2017-08-22 00:00:00   \n",
       "54388                                                NaN  2017-12-20 00:00:00   \n",
       "92957                                                NaN  2017-12-20 00:00:00   \n",
       "\n",
       "      review_answer_timestamp  \n",
       "22585     2017-08-29 21:45:57  \n",
       "25802     2017-08-30 01:59:12  \n",
       "69191     2018-03-05 17:02:00  \n",
       "22946     2018-02-23 12:12:30  \n",
       "857       2018-01-02 10:54:06  \n",
       "...                       ...  \n",
       "95246     2017-11-01 19:55:52  \n",
       "41665     2017-08-17 11:56:55  \n",
       "18916     2017-08-25 11:40:22  \n",
       "54388     2017-12-21 13:24:55  \n",
       "92957     2017-12-20 18:50:16  \n",
       "\n",
       "[1114 rows x 7 columns]"
      ]
     },
     "execution_count": 48,
     "metadata": {},
     "output_type": "execute_result"
    }
   ],
   "source": [
    "# look at order with more than one review\n",
    "review[review.groupby('order_id')['review_id'].transform(len)>1].sort_values(['order_id','review_id'])"
   ]
  },
  {
   "cell_type": "code",
   "execution_count": 49,
   "metadata": {
    "execution": {
     "iopub.execute_input": "2020-09-09T02:55:18.860317Z",
     "iopub.status.busy": "2020-09-09T02:55:18.859208Z",
     "iopub.status.idle": "2020-09-09T02:55:18.863920Z",
     "shell.execute_reply": "2020-09-09T02:55:18.863294Z"
    },
    "papermill": {
     "duration": 0.038798,
     "end_time": "2020-09-09T02:55:18.864044",
     "exception": false,
     "start_time": "2020-09-09T02:55:18.825246",
     "status": "completed"
    },
    "tags": []
   },
   "outputs": [
    {
     "data": {
      "text/plain": [
       "(100000, 7)"
      ]
     },
     "execution_count": 49,
     "metadata": {},
     "output_type": "execute_result"
    }
   ],
   "source": [
    "# checking data shape\n",
    "review.shape"
   ]
  },
  {
   "cell_type": "code",
   "execution_count": 50,
   "metadata": {
    "execution": {
     "iopub.execute_input": "2020-09-09T02:55:18.985067Z",
     "iopub.status.busy": "2020-09-09T02:55:18.983951Z",
     "iopub.status.idle": "2020-09-09T02:55:18.992642Z",
     "shell.execute_reply": "2020-09-09T02:55:18.993240Z"
    },
    "papermill": {
     "duration": 0.10077,
     "end_time": "2020-09-09T02:55:18.993426",
     "exception": false,
     "start_time": "2020-09-09T02:55:18.892656",
     "status": "completed"
    },
    "tags": []
   },
   "outputs": [
    {
     "data": {
      "text/plain": [
       "review_id                      0\n",
       "order_id                       0\n",
       "review_score                   0\n",
       "review_comment_title       88285\n",
       "review_comment_message     58247\n",
       "review_creation_date           0\n",
       "review_answer_timestamp        0\n",
       "dtype: int64"
      ]
     },
     "execution_count": 50,
     "metadata": {},
     "output_type": "execute_result"
    }
   ],
   "source": [
    "# checking null\n",
    "review.isna().sum()"
   ]
  },
  {
   "cell_type": "code",
   "execution_count": 51,
   "metadata": {
    "execution": {
     "iopub.execute_input": "2020-09-09T02:55:19.067813Z",
     "iopub.status.busy": "2020-09-09T02:55:19.067040Z",
     "iopub.status.idle": "2020-09-09T02:55:19.080559Z",
     "shell.execute_reply": "2020-09-09T02:55:19.079813Z"
    },
    "papermill": {
     "duration": 0.05755,
     "end_time": "2020-09-09T02:55:19.080686",
     "exception": false,
     "start_time": "2020-09-09T02:55:19.023136",
     "status": "completed"
    },
    "tags": []
   },
   "outputs": [
    {
     "name": "stdout",
     "output_type": "stream",
     "text": [
      "total non null review: 41753\n"
     ]
    }
   ],
   "source": [
    "# total non null review\n",
    "print(f'total non null review: {len(review[~review[\"review_comment_message\"].isna()])}')"
   ]
  },
  {
   "cell_type": "code",
   "execution_count": 52,
   "metadata": {
    "execution": {
     "iopub.execute_input": "2020-09-09T02:55:19.145182Z",
     "iopub.status.busy": "2020-09-09T02:55:19.144072Z",
     "iopub.status.idle": "2020-09-09T02:55:19.298024Z",
     "shell.execute_reply": "2020-09-09T02:55:19.297249Z"
    },
    "papermill": {
     "duration": 0.188647,
     "end_time": "2020-09-09T02:55:19.298150",
     "exception": false,
     "start_time": "2020-09-09T02:55:19.109503",
     "status": "completed"
    },
    "tags": []
   },
   "outputs": [
    {
     "data": {
      "image/png": "[encoded data removed]",
      "text/plain": [
       "<Figure size 432x288 with 1 Axes>"
      ]
     },
     "metadata": {
      "needs_background": "light"
     },
     "output_type": "display_data"
    }
   ],
   "source": [
    "_ = review['review_score'].value_counts().plot.bar()\n",
    "_ = plt.title('number of order by review score')"
   ]
  },
  {
   "cell_type": "code",
   "execution_count": 53,
   "metadata": {
    "execution": {
     "iopub.execute_input": "2020-09-09T02:55:19.365118Z",
     "iopub.status.busy": "2020-09-09T02:55:19.362281Z",
     "iopub.status.idle": "2020-09-09T02:55:19.662070Z",
     "shell.execute_reply": "2020-09-09T02:55:19.661383Z"
    },
    "papermill": {
     "duration": 0.33464,
     "end_time": "2020-09-09T02:55:19.662230",
     "exception": false,
     "start_time": "2020-09-09T02:55:19.327590",
     "status": "completed"
    },
    "tags": []
   },
   "outputs": [],
   "source": [
    "# check review score within each product category\n",
    "\n",
    "# --group review by order_id\n",
    "order_rating = review.groupby('order_id')['review_score'].mean().reset_index()"
   ]
  },
  {
   "cell_type": "code",
   "execution_count": 54,
   "metadata": {
    "execution": {
     "iopub.execute_input": "2020-09-09T02:55:19.733764Z",
     "iopub.status.busy": "2020-09-09T02:55:19.732772Z",
     "iopub.status.idle": "2020-09-09T02:55:19.737219Z",
     "shell.execute_reply": "2020-09-09T02:55:19.737733Z"
    },
    "papermill": {
     "duration": 0.045127,
     "end_time": "2020-09-09T02:55:19.737910",
     "exception": false,
     "start_time": "2020-09-09T02:55:19.692783",
     "status": "completed"
    },
    "tags": []
   },
   "outputs": [
    {
     "data": {
      "text/html": [
       "<div>\n",
       "<style scoped>\n",
       "    .dataframe tbody tr th:only-of-type {\n",
       "        vertical-align: middle;\n",
       "    }\n",
       "\n",
       "    .dataframe tbody tr th {\n",
       "        vertical-align: top;\n",
       "    }\n",
       "\n",
       "    .dataframe thead th {\n",
       "        text-align: right;\n",
       "    }\n",
       "</style>\n",
       "<table border=\"1\" class=\"dataframe\">\n",
       "  <thead>\n",
       "    <tr style=\"text-align: right;\">\n",
       "      <th></th>\n",
       "      <th>order_id</th>\n",
       "      <th>review_score</th>\n",
       "    </tr>\n",
       "  </thead>\n",
       "  <tbody>\n",
       "    <tr>\n",
       "      <th>0</th>\n",
       "      <td>00010242fe8c5a6d1ba2dd792cb16214</td>\n",
       "      <td>5.0</td>\n",
       "    </tr>\n",
       "    <tr>\n",
       "      <th>1</th>\n",
       "      <td>00018f77f2f0320c557190d7a144bdd3</td>\n",
       "      <td>4.0</td>\n",
       "    </tr>\n",
       "    <tr>\n",
       "      <th>2</th>\n",
       "      <td>000229ec398224ef6ca0657da4fc703e</td>\n",
       "      <td>5.0</td>\n",
       "    </tr>\n",
       "    <tr>\n",
       "      <th>3</th>\n",
       "      <td>00024acbcdf0a6daa1e931b038114c75</td>\n",
       "      <td>4.0</td>\n",
       "    </tr>\n",
       "    <tr>\n",
       "      <th>4</th>\n",
       "      <td>00042b26cf59d7ce69dfabb4e55b4fd9</td>\n",
       "      <td>5.0</td>\n",
       "    </tr>\n",
       "  </tbody>\n",
       "</table>\n",
       "</div>"
      ],
      "text/plain": [
       "                           order_id  review_score\n",
       "0  00010242fe8c5a6d1ba2dd792cb16214           5.0\n",
       "1  00018f77f2f0320c557190d7a144bdd3           4.0\n",
       "2  000229ec398224ef6ca0657da4fc703e           5.0\n",
       "3  00024acbcdf0a6daa1e931b038114c75           4.0\n",
       "4  00042b26cf59d7ce69dfabb4e55b4fd9           5.0"
      ]
     },
     "execution_count": 54,
     "metadata": {},
     "output_type": "execute_result"
    }
   ],
   "source": [
    "order_rating.head()"
   ]
  },
  {
   "cell_type": "code",
   "execution_count": 55,
   "metadata": {
    "execution": {
     "iopub.execute_input": "2020-09-09T02:55:19.820829Z",
     "iopub.status.busy": "2020-09-09T02:55:19.810570Z",
     "iopub.status.idle": "2020-09-09T02:55:34.292501Z",
     "shell.execute_reply": "2020-09-09T02:55:34.293087Z"
    },
    "papermill": {
     "duration": 14.525862,
     "end_time": "2020-09-09T02:55:34.293273",
     "exception": false,
     "start_time": "2020-09-09T02:55:19.767411",
     "status": "completed"
    },
    "tags": []
   },
   "outputs": [],
   "source": [
    "# --group category by order\n",
    "order_cat = order_item.groupby('order_id')['product_category_name_english'].max().reset_index()"
   ]
  },
  {
   "cell_type": "code",
   "execution_count": 56,
   "metadata": {
    "execution": {
     "iopub.execute_input": "2020-09-09T02:55:34.364879Z",
     "iopub.status.busy": "2020-09-09T02:55:34.363713Z",
     "iopub.status.idle": "2020-09-09T02:55:34.368240Z",
     "shell.execute_reply": "2020-09-09T02:55:34.367487Z"
    },
    "papermill": {
     "duration": 0.044625,
     "end_time": "2020-09-09T02:55:34.368373",
     "exception": false,
     "start_time": "2020-09-09T02:55:34.323748",
     "status": "completed"
    },
    "tags": []
   },
   "outputs": [
    {
     "data": {
      "text/html": [
       "<div>\n",
       "<style scoped>\n",
       "    .dataframe tbody tr th:only-of-type {\n",
       "        vertical-align: middle;\n",
       "    }\n",
       "\n",
       "    .dataframe tbody tr th {\n",
       "        vertical-align: top;\n",
       "    }\n",
       "\n",
       "    .dataframe thead th {\n",
       "        text-align: right;\n",
       "    }\n",
       "</style>\n",
       "<table border=\"1\" class=\"dataframe\">\n",
       "  <thead>\n",
       "    <tr style=\"text-align: right;\">\n",
       "      <th></th>\n",
       "      <th>order_id</th>\n",
       "      <th>product_category_name_english</th>\n",
       "    </tr>\n",
       "  </thead>\n",
       "  <tbody>\n",
       "    <tr>\n",
       "      <th>0</th>\n",
       "      <td>00010242fe8c5a6d1ba2dd792cb16214</td>\n",
       "      <td>cool_stuff</td>\n",
       "    </tr>\n",
       "    <tr>\n",
       "      <th>1</th>\n",
       "      <td>00018f77f2f0320c557190d7a144bdd3</td>\n",
       "      <td>pet_shop</td>\n",
       "    </tr>\n",
       "    <tr>\n",
       "      <th>2</th>\n",
       "      <td>000229ec398224ef6ca0657da4fc703e</td>\n",
       "      <td>furniture_decor</td>\n",
       "    </tr>\n",
       "    <tr>\n",
       "      <th>3</th>\n",
       "      <td>00024acbcdf0a6daa1e931b038114c75</td>\n",
       "      <td>perfumery</td>\n",
       "    </tr>\n",
       "    <tr>\n",
       "      <th>4</th>\n",
       "      <td>00042b26cf59d7ce69dfabb4e55b4fd9</td>\n",
       "      <td>garden_tools</td>\n",
       "    </tr>\n",
       "  </tbody>\n",
       "</table>\n",
       "</div>"
      ],
      "text/plain": [
       "                           order_id product_category_name_english\n",
       "0  00010242fe8c5a6d1ba2dd792cb16214                    cool_stuff\n",
       "1  00018f77f2f0320c557190d7a144bdd3                      pet_shop\n",
       "2  000229ec398224ef6ca0657da4fc703e               furniture_decor\n",
       "3  00024acbcdf0a6daa1e931b038114c75                     perfumery\n",
       "4  00042b26cf59d7ce69dfabb4e55b4fd9                  garden_tools"
      ]
     },
     "execution_count": 56,
     "metadata": {},
     "output_type": "execute_result"
    }
   ],
   "source": [
    "order_cat.head()"
   ]
  },
  {
   "cell_type": "code",
   "execution_count": 57,
   "metadata": {
    "execution": {
     "iopub.execute_input": "2020-09-09T02:55:34.435871Z",
     "iopub.status.busy": "2020-09-09T02:55:34.434660Z",
     "iopub.status.idle": "2020-09-09T02:55:34.760479Z",
     "shell.execute_reply": "2020-09-09T02:55:34.761075Z"
    },
    "papermill": {
     "duration": 0.362324,
     "end_time": "2020-09-09T02:55:34.761255",
     "exception": false,
     "start_time": "2020-09-09T02:55:34.398931",
     "status": "completed"
    },
    "tags": []
   },
   "outputs": [],
   "source": [
    "# --merge\n",
    "order_ = order.merge(order_rating,on='order_id').merge(order_cat, on='order_id')"
   ]
  },
  {
   "cell_type": "code",
   "execution_count": 58,
   "metadata": {
    "execution": {
     "iopub.execute_input": "2020-09-09T02:55:34.836689Z",
     "iopub.status.busy": "2020-09-09T02:55:34.833933Z",
     "iopub.status.idle": "2020-09-09T02:55:36.912017Z",
     "shell.execute_reply": "2020-09-09T02:55:36.912659Z"
    },
    "papermill": {
     "duration": 2.121231,
     "end_time": "2020-09-09T02:55:36.912825",
     "exception": false,
     "start_time": "2020-09-09T02:55:34.791594",
     "status": "completed"
    },
    "tags": []
   },
   "outputs": [
    {
     "data": {
      "image/png": "[encoded data removed]",
      "text/plain": [
       "<Figure size 720x900 with 1 Axes>"
      ]
     },
     "metadata": {
      "needs_background": "light"
     },
     "output_type": "display_data"
    }
   ],
   "source": [
    "f, ax = plt.subplots(figsize=(10, 12.5))\n",
    "_ = sns.boxplot(y='product_category_name_english',x='review_score',data=order_)"
   ]
  },
  {
   "cell_type": "code",
   "execution_count": null,
   "metadata": {},
   "outputs": [],
   "source": []
  }
 ],
 "metadata": {
  "kernelspec": {
   "display_name": "Python 3",
   "language": "python",
   "name": "python3"
  },
  "language_info": {
   "codemirror_mode": {
    "name": "ipython",
    "version": 3
   },
   "file_extension": ".py",
   "mimetype": "text/x-python",
   "name": "python",
   "nbconvert_exporter": "python",
   "pygments_lexer": "ipython3",
   "version": "3.7.3"
  },
  "papermill": {
   "duration": 136.593429,
   "end_time": "2020-09-09T02:55:37.127805",
   "environment_variables": {},
   "exception": null,
   "input_path": "__notebook__.ipynb",
   "output_path": "__notebook__.ipynb",
   "parameters": {},
   "start_time": "2020-09-09T02:53:20.534376",
   "version": "2.1.0"
  },
  "toc": {
   "base_numbering": 1,
   "nav_menu": {},
   "number_sections": true,
   "sideBar": true,
   "skip_h1_title": false,
   "title_cell": "Table of Contents",
   "title_sidebar": "Contents",
   "toc_cell": false,
   "toc_position": {},
   "toc_section_display": true,
   "toc_window_display": false
  }
 },
 "nbformat": 4,
 "nbformat_minor": 4
}
